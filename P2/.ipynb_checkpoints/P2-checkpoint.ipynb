{
 "cells": [
  {
   "cell_type": "markdown",
   "metadata": {},
   "source": [
    "# Problem 2 - Decision Tree Regression\n",
    "\n",
    "Decision tree builds regression or classification models in the form of a tree structure. \n",
    "It brakes down a dataset into smaller and smaller subsets while at the same time an associated decision\n",
    "tree is incrementally developed. The final result is a tree with decision nodes and leaf nodes. \n",
    "A decision node (e.g., Outlook) has two or more branches (e.g., Sunny, Overcast and Rainy), each representing\n",
    "values for the attribute tested. Leaf node (e.g., Hours Played) represents a decision on the numerical target. \n",
    "The topmost decision node in a tree which corresponds to the best predictor called root node. \n",
    "Decision trees can handle both categorical and numerical data. \n"
   ]
  },
  {
   "cell_type": "markdown",
   "metadata": {},
   "source": [
    "$Importing$ $all$ $the$ $relevant$ $libraries$"
   ]
  },
  {
   "cell_type": "code",
   "execution_count": 241,
   "metadata": {},
   "outputs": [],
   "source": [
    "import pandas as pd\n",
    "from sklearn.tree import DecisionTreeRegressor,export_graphviz\n",
    "from sklearn import metrics\n",
    "from sklearn.cross_validation import cross_val_score\n",
    "import numpy as np\n",
    "import matplotlib.pyplot as plt\n",
    "import warnings\n",
    "warnings.filterwarnings(\"ignore\")"
   ]
  },
  {
   "cell_type": "markdown",
   "metadata": {},
   "source": [
    "$Loading$ $dataset$ $using$ $Pandas$ $read csv$ $function$ "
   ]
  },
  {
   "cell_type": "code",
   "execution_count": 242,
   "metadata": {},
   "outputs": [
    {
     "data": {
      "text/plain": [
       "(731, 10)"
      ]
     },
     "execution_count": 242,
     "metadata": {},
     "output_type": "execute_result"
    }
   ],
   "source": [
    "dataset = pd.read_csv('bikes.csv')\n",
    "dataset.head()\n",
    "Y = dataset['count']\n",
    "dates  = dataset['date']\n",
    "dataset =dataset.drop(['count','date'],axis=1)\n",
    "dataset.shape"
   ]
  },
  {
   "cell_type": "code",
   "execution_count": 243,
   "metadata": {},
   "outputs": [
    {
     "data": {
      "text/html": [
       "<div>\n",
       "<style scoped>\n",
       "    .dataframe tbody tr th:only-of-type {\n",
       "        vertical-align: middle;\n",
       "    }\n",
       "\n",
       "    .dataframe tbody tr th {\n",
       "        vertical-align: top;\n",
       "    }\n",
       "\n",
       "    .dataframe thead th {\n",
       "        text-align: right;\n",
       "    }\n",
       "</style>\n",
       "<table border=\"1\" class=\"dataframe\">\n",
       "  <thead>\n",
       "    <tr style=\"text-align: right;\">\n",
       "      <th></th>\n",
       "      <th>season</th>\n",
       "      <th>year</th>\n",
       "      <th>month</th>\n",
       "      <th>holiday</th>\n",
       "      <th>weekday</th>\n",
       "      <th>workingday</th>\n",
       "      <th>weather</th>\n",
       "      <th>temp</th>\n",
       "      <th>humidity</th>\n",
       "      <th>windspeed</th>\n",
       "    </tr>\n",
       "  </thead>\n",
       "  <tbody>\n",
       "    <tr>\n",
       "      <th>0</th>\n",
       "      <td>1</td>\n",
       "      <td>0</td>\n",
       "      <td>1</td>\n",
       "      <td>0</td>\n",
       "      <td>6</td>\n",
       "      <td>0</td>\n",
       "      <td>2</td>\n",
       "      <td>0.344167</td>\n",
       "      <td>0.805833</td>\n",
       "      <td>0.160446</td>\n",
       "    </tr>\n",
       "    <tr>\n",
       "      <th>1</th>\n",
       "      <td>1</td>\n",
       "      <td>0</td>\n",
       "      <td>1</td>\n",
       "      <td>0</td>\n",
       "      <td>0</td>\n",
       "      <td>0</td>\n",
       "      <td>2</td>\n",
       "      <td>0.363478</td>\n",
       "      <td>0.696087</td>\n",
       "      <td>0.248539</td>\n",
       "    </tr>\n",
       "    <tr>\n",
       "      <th>2</th>\n",
       "      <td>1</td>\n",
       "      <td>0</td>\n",
       "      <td>1</td>\n",
       "      <td>0</td>\n",
       "      <td>1</td>\n",
       "      <td>1</td>\n",
       "      <td>1</td>\n",
       "      <td>0.196364</td>\n",
       "      <td>0.437273</td>\n",
       "      <td>0.248309</td>\n",
       "    </tr>\n",
       "    <tr>\n",
       "      <th>3</th>\n",
       "      <td>1</td>\n",
       "      <td>0</td>\n",
       "      <td>1</td>\n",
       "      <td>0</td>\n",
       "      <td>2</td>\n",
       "      <td>1</td>\n",
       "      <td>1</td>\n",
       "      <td>0.200000</td>\n",
       "      <td>0.590435</td>\n",
       "      <td>0.160296</td>\n",
       "    </tr>\n",
       "    <tr>\n",
       "      <th>4</th>\n",
       "      <td>1</td>\n",
       "      <td>0</td>\n",
       "      <td>1</td>\n",
       "      <td>0</td>\n",
       "      <td>3</td>\n",
       "      <td>1</td>\n",
       "      <td>1</td>\n",
       "      <td>0.226957</td>\n",
       "      <td>0.436957</td>\n",
       "      <td>0.186900</td>\n",
       "    </tr>\n",
       "  </tbody>\n",
       "</table>\n",
       "</div>"
      ],
      "text/plain": [
       "   season  year  month  holiday  weekday  workingday  weather      temp  \\\n",
       "0       1     0      1        0        6           0        2  0.344167   \n",
       "1       1     0      1        0        0           0        2  0.363478   \n",
       "2       1     0      1        0        1           1        1  0.196364   \n",
       "3       1     0      1        0        2           1        1  0.200000   \n",
       "4       1     0      1        0        3           1        1  0.226957   \n",
       "\n",
       "   humidity  windspeed  \n",
       "0  0.805833   0.160446  \n",
       "1  0.696087   0.248539  \n",
       "2  0.437273   0.248309  \n",
       "3  0.590435   0.160296  \n",
       "4  0.436957   0.186900  "
      ]
     },
     "execution_count": 243,
     "metadata": {},
     "output_type": "execute_result"
    }
   ],
   "source": [
    "dataset.head()"
   ]
  },
  {
   "cell_type": "markdown",
   "metadata": {},
   "source": [
    "## Dataset description\n",
    "\n",
    "The data set is derived from a two-year usage log of a Washington, D.C. bike-\n",
    "sharing system called Captial Bike Sharing (CBS). Bike sharing systems are variants of traditional\n",
    "bicycle rentals, where the process of renting and returning is heavily automated; typically, bikes can\n",
    "be rented at one location and returned at another without ever having to deal with a human being.\n",
    "The goal is to predict the daily level of bicycle rentals from environmental and seasonal variables\n",
    "using decision trees.\n",
    "\n",
    "Dataset size is -\n",
    "- Total data records 731\n",
    "- Total features are 10\n",
    "\n",
    "Variables description - \n",
    "- Date: The full date, in year-month-day format.\n",
    "- season: Season of the year, 1 to 4\n",
    "- year: Year, 0=2011, 1=2012\n",
    "- month: Month (1 to 12)\n",
    "- holiday: Whether the day is holiday or not\n",
    "- weekday: Day of the week (coded by 0-6)\n",
    "- workingday: 1 for working days, 0 for weekends and holidays\n",
    "- weather: Weather, coded as follows:\n",
    "  1. Clear to partly cloudy\n",
    "  2. Mist but no heavier precipitation\n",
    "  3. Light rain or snow, possibly with thunder\n",
    "  4. Heavy rain or snow\n",
    "- temp: Normalized temperature in Celsius. The values are derived via\n",
    "  (t − t min )/(t max − t min ); t min = −8, t max = +39.\n",
    "- humidity: Normalized humidity ( actual humidity divided by 100 ).\n",
    "- windspeed: Normalized wind speed ( actual wind speed in miles per hour divided by 67 ).\n",
    "- count: Count of total bike rentals that day, including both casual and registered users."
   ]
  },
  {
   "cell_type": "markdown",
   "metadata": {},
   "source": []
  },
  {
   "cell_type": "code",
   "execution_count": 244,
   "metadata": {},
   "outputs": [
    {
     "name": "stdout",
     "output_type": "stream",
     "text": [
      "[-1.015421068605069, -0.8438613130339319, -0.7919070236286889, -0.6218040568026578, -0.6345586318270036, -0.5395767237978745, -0.5663931610439867]\n"
     ]
    }
   ],
   "source": [
    "def MSE(predicted,Y):\n",
    "    s=0\n",
    "    for i in range(len(predicted)):\n",
    "        s+=(predicted[i]-Y[i])**2\n",
    "    s=s/len(predicted)\n",
    "    return s\n",
    "depth = []\n",
    "maxnodes = list(range(10,101,10))\n",
    "for i in range(3,10):\n",
    "    clf = DecisionTreeRegressor(max_depth=i)\n",
    "    # Perform 7-fold cross validation \n",
    "    scores = cross_val_score(estimator=clf, X=dataset, y=Y, cv=10, n_jobs=4)\n",
    "    depth.append(scores.mean())\n",
    "\n",
    "# print(depth)\n",
    "print(depth)"
   ]
  },
  {
   "cell_type": "code",
   "execution_count": 245,
   "metadata": {},
   "outputs": [
    {
     "name": "stdout",
     "output_type": "stream",
     "text": [
      "Hence, maxdepth is either 3 or 5\n"
     ]
    },
    {
     "data": {
      "image/png": "[encoded data removed]",
      "text/plain": [
       "<Figure size 432x288 with 1 Axes>"
      ]
     },
     "metadata": {},
     "output_type": "display_data"
    }
   ],
   "source": [
    "maxdepth = list(range(3,10))\n",
    "\n",
    "plt.plot(maxdepth,depth)\n",
    "plt.xlabel('Hyperparameter Maxdepth')\n",
    "plt.ylabel('Mean Sqaure Error of 10cv(MSE)')\n",
    "plt.title('Calculating Maxdepth hyperparameter with Least MSE ')\n",
    "print('Hence, maxdepth is either 3 or 5')"
   ]
  },
  {
   "cell_type": "code",
   "execution_count": 249,
   "metadata": {},
   "outputs": [],
   "source": [
    "depth = []\n",
    "maxnodes = list(range(10,101,10))\n",
    "for i in maxnodes:\n",
    "    clf = DecisionTreeRegressor(max_depth=5,max_leaf_nodes=i)\n",
    "    # Perform 7-fold cross validation \n",
    "    scores = cross_val_score(estimator=clf, X=dataset, y=Y, cv=10, n_jobs=4)\n",
    "    depth.append(scores.mean())"
   ]
  },
  {
   "cell_type": "code",
   "execution_count": 250,
   "metadata": {},
   "outputs": [
    {
     "name": "stdout",
     "output_type": "stream",
     "text": [
      "Hence minimum value of MSE for Max Leaf nodes is obtained at 30\n"
     ]
    },
    {
     "data": {
      "image/png": "[encoded data removed]",
      "text/plain": [
       "<Figure size 432x288 with 1 Axes>"
      ]
     },
     "metadata": {},
     "output_type": "display_data"
    }
   ],
   "source": [
    "plt.plot(maxnodes,depth)\n",
    "plt.xlabel('Hyperparameter Max Leaf nodes')\n",
    "plt.ylabel('Mean Sqaure Error of 10cv(MSE)')\n",
    "plt.title('Calculating Maxdepth hyperparameter with Least MSE for Max Depth 5 ')\n",
    "print('Hence minimum value of MSE for Max Leaf nodes is obtained at 30')\n",
    "MSEfor5 = min(depth)"
   ]
  },
  {
   "cell_type": "code",
   "execution_count": 251,
   "metadata": {},
   "outputs": [],
   "source": [
    "model = DecisionTreeRegressor(max_depth=5,max_leaf_nodes=30)\n",
    "# Perform 7-fold cross validation \n",
    "model.fit(dataset,Y)\n",
    "predicted = model.predict(dataset)\n",
    "MSE5 = MSE(predicted,Y)"
   ]
  },
  {
   "cell_type": "code",
   "execution_count": 252,
   "metadata": {},
   "outputs": [],
   "source": [
    "depth = []\n",
    "maxnodes = list(range(10,101,10))\n",
    "for i in maxnodes:\n",
    "    clf = DecisionTreeRegressor(max_depth=3,max_leaf_nodes=i)\n",
    "    # Perform 7-fold cross validation \n",
    "    scores = cross_val_score(estimator=clf, X=dataset, y=Y, cv=10, n_jobs=4)\n",
    "    depth.append(scores.mean())"
   ]
  },
  {
   "cell_type": "code",
   "execution_count": 253,
   "metadata": {},
   "outputs": [
    {
     "name": "stdout",
     "output_type": "stream",
     "text": [
      "Hence minimum value of MSE for Max Leaf nodes is obtained at 30\n"
     ]
    },
    {
     "data": {
      "image/png": "[encoded data removed]",
      "text/plain": [
       "<Figure size 432x288 with 1 Axes>"
      ]
     },
     "metadata": {},
     "output_type": "display_data"
    }
   ],
   "source": [
    "plt.plot(maxnodes,depth)\n",
    "plt.xlabel('Hyperparameter Max Leaf nodes')\n",
    "plt.ylabel('Mean Sqaure Error of 10cv(MSE)')\n",
    "plt.title('Calculating Maxdepth hyperparameter with Least MSE for Max Depth 3 ')\n",
    "print('Hence minimum value of MSE for Max Leaf nodes is obtained at 30')"
   ]
  },
  {
   "cell_type": "code",
   "execution_count": 254,
   "metadata": {},
   "outputs": [],
   "source": [
    "model = DecisionTreeRegressor(max_depth=3,max_leaf_nodes=20)\n",
    "# Perform 7-fold cross validation \n",
    "model.fit(dataset,Y)\n",
    "predicted = model.predict(dataset)\n",
    "MSE3 = MSE(predicted,Y)"
   ]
  },
  {
   "cell_type": "code",
   "execution_count": 255,
   "metadata": {},
   "outputs": [
    {
     "name": "stdout",
     "output_type": "stream",
     "text": [
      "Minimum MSE for Max Depth 5 and MaxLeaf Node 30 is 376820.1402192555\n",
      "Minimum MSE for Max Depth 3 and MaxLeafNode 20 is 584702.4259093214\n"
     ]
    }
   ],
   "source": [
    "print('Minimum MSE for Max Depth 5 and MaxLeaf Node 30 is '+str(MSE5))\n",
    "print('Minimum MSE for Max Depth 3 and MaxLeafNode 20 is '+str(MSE3))"
   ]
  },
  {
   "cell_type": "markdown",
   "metadata": {},
   "source": [
    "### Hence Maxdepth 5 and max_leaf_node 30 has minimum MSE value"
   ]
  },
  {
   "cell_type": "code",
   "execution_count": 256,
   "metadata": {},
   "outputs": [
    {
     "data": {
      "text/plain": [
       "DecisionTreeRegressor(criterion='mse', max_depth=5, max_features=None,\n",
       "           max_leaf_nodes=30, min_impurity_decrease=0.0,\n",
       "           min_impurity_split=None, min_samples_leaf=1,\n",
       "           min_samples_split=2, min_weight_fraction_leaf=0.0,\n",
       "           presort=False, random_state=None, splitter='best')"
      ]
     },
     "execution_count": 256,
     "metadata": {},
     "output_type": "execute_result"
    }
   ],
   "source": [
    "model = DecisionTreeRegressor(max_depth=5,max_leaf_nodes=30)\n",
    "# Perform 7-fold cross validation \n",
    "model.fit(dataset,Y)"
   ]
  },
  {
   "cell_type": "code",
   "execution_count": 257,
   "metadata": {},
   "outputs": [
    {
     "name": "stdout",
     "output_type": "stream",
     "text": [
      "The number of leaf nodes are 30\n"
     ]
    }
   ],
   "source": [
    "n_nodes = model.tree_.node_count\n",
    "children_left = model.tree_.children_left\n",
    "children_right = model.tree_.children_right\n",
    "feature = model.tree_.feature\n",
    "threshold = model.tree_.threshold\n",
    "\n",
    "\n",
    "# The tree structure can be traversed to compute various properties such\n",
    "# as the depth of each node and whether or not it is a leaf.\n",
    "node_depth = np.zeros(shape=n_nodes, dtype=np.int64)\n",
    "is_leaves = np.zeros(shape=n_nodes, dtype=bool)\n",
    "stack = [(0, -1)]  # seed is the root node id and its parent depth\n",
    "while len(stack) > 0:\n",
    "    node_id, parent_depth = stack.pop()\n",
    "    node_depth[node_id] = parent_depth + 1\n",
    "\n",
    "    # If we have a test node\n",
    "    if (children_left[node_id] != children_right[node_id]):\n",
    "        stack.append((children_left[node_id], parent_depth + 1))\n",
    "        stack.append((children_right[node_id], parent_depth + 1))\n",
    "    else:\n",
    "        is_leaves[node_id] = True\n",
    "\n",
    "print('The number of leaf nodes are '+str(sum(is_leaves)))"
   ]
  },
  {
   "cell_type": "code",
   "execution_count": 258,
   "metadata": {},
   "outputs": [
    {
     "name": "stdout",
     "output_type": "stream",
     "text": [
      "The MSE value of part(i) is\n",
      "376820.1402192555\n"
     ]
    }
   ],
   "source": [
    "predicted = model.predict(dataset)\n",
    "print(\"The MSE value of part(i) is\")\n",
    "print(MSE(predicted,Y))"
   ]
  },
  {
   "cell_type": "code",
   "execution_count": 259,
   "metadata": {},
   "outputs": [
    {
     "data": {
      "image/svg+xml": [
       "<svg height=\"685pt\" viewBox=\"0.00 0.00 2667.50 685.00\" width=\"2668pt\" xmlns=\"http://www.w3.org/2000/svg\" xmlns:xlink=\"http://www.w3.org/1999/xlink\">\n",
       "<g class=\"graph\" id=\"graph0\" transform=\"scale(1 1) rotate(0) translate(4 681)\">\n",
       "<title>Tree</title>\n",
       "<polygon fill=\"white\" points=\"-4,4 -4,-681 2663.5,-681 2663.5,4 -4,4\" stroke=\"none\"/>\n",
       "<!-- 0 -->\n",
       "<g class=\"node\" id=\"node1\"><title>0</title>\n",
       "<polygon fill=\"none\" points=\"1202.5,-677 1076.5,-677 1076.5,-609 1202.5,-609 1202.5,-677\" stroke=\"black\"/>\n",
       "<text font-family=\"Times,serif\" font-size=\"14.00\" text-anchor=\"middle\" x=\"1139.5\" y=\"-661.8\">temp &lt;= 0.432</text>\n",
       "<text font-family=\"Times,serif\" font-size=\"14.00\" text-anchor=\"middle\" x=\"1139.5\" y=\"-646.8\">mse = 3747654.435</text>\n",
       "<text font-family=\"Times,serif\" font-size=\"14.00\" text-anchor=\"middle\" x=\"1139.5\" y=\"-631.8\">samples = 731</text>\n",
       "<text font-family=\"Times,serif\" font-size=\"14.00\" text-anchor=\"middle\" x=\"1139.5\" y=\"-616.8\">value = 4504.349</text>\n",
       "</g>\n",
       "<!-- 1 -->\n",
       "<g class=\"node\" id=\"node2\"><title>1</title>\n",
       "<polygon fill=\"none\" points=\"963.5,-573 837.5,-573 837.5,-505 963.5,-505 963.5,-573\" stroke=\"black\"/>\n",
       "<text font-family=\"Times,serif\" font-size=\"14.00\" text-anchor=\"middle\" x=\"900.5\" y=\"-557.8\">year &lt;= 0.5</text>\n",
       "<text font-family=\"Times,serif\" font-size=\"14.00\" text-anchor=\"middle\" x=\"900.5\" y=\"-542.8\">mse = 2241571.905</text>\n",
       "<text font-family=\"Times,serif\" font-size=\"14.00\" text-anchor=\"middle\" x=\"900.5\" y=\"-527.8\">samples = 296</text>\n",
       "<text font-family=\"Times,serif\" font-size=\"14.00\" text-anchor=\"middle\" x=\"900.5\" y=\"-512.8\">value = 3037.807</text>\n",
       "</g>\n",
       "<!-- 0&#45;&gt;1 -->\n",
       "<g class=\"edge\" id=\"edge1\"><title>0-&gt;1</title>\n",
       "<path d=\"M1076.39,-615.067C1044.67,-601.53 1006.07,-585.057 973.126,-570.995\" fill=\"none\" stroke=\"black\"/>\n",
       "<polygon fill=\"black\" points=\"974.117,-567.613 963.546,-566.907 971.37,-574.051 974.117,-567.613\" stroke=\"black\"/>\n",
       "<text font-family=\"Times,serif\" font-size=\"14.00\" text-anchor=\"middle\" x=\"972.866\" y=\"-586.404\">True</text>\n",
       "</g>\n",
       "<!-- 2 -->\n",
       "<g class=\"node\" id=\"node31\"><title>2</title>\n",
       "<polygon fill=\"none\" points=\"1653.5,-573 1527.5,-573 1527.5,-505 1653.5,-505 1653.5,-573\" stroke=\"black\"/>\n",
       "<text font-family=\"Times,serif\" font-size=\"14.00\" text-anchor=\"middle\" x=\"1590.5\" y=\"-557.8\">year &lt;= 0.5</text>\n",
       "<text font-family=\"Times,serif\" font-size=\"14.00\" text-anchor=\"middle\" x=\"1590.5\" y=\"-542.8\">mse = 2313139.278</text>\n",
       "<text font-family=\"Times,serif\" font-size=\"14.00\" text-anchor=\"middle\" x=\"1590.5\" y=\"-527.8\">samples = 435</text>\n",
       "<text font-family=\"Times,serif\" font-size=\"14.00\" text-anchor=\"middle\" x=\"1590.5\" y=\"-512.8\">value = 5502.271</text>\n",
       "</g>\n",
       "<!-- 0&#45;&gt;2 -->\n",
       "<g class=\"edge\" id=\"edge30\"><title>0-&gt;2</title>\n",
       "<path d=\"M1202.68,-627.71C1285.43,-608.995 1430.22,-576.249 1517.55,-556.499\" fill=\"none\" stroke=\"black\"/>\n",
       "<polygon fill=\"black\" points=\"1518.4,-559.895 1527.38,-554.275 1516.85,-553.068 1518.4,-559.895\" stroke=\"black\"/>\n",
       "<text font-family=\"Times,serif\" font-size=\"14.00\" text-anchor=\"middle\" x=\"1514.04\" y=\"-571.717\">False</text>\n",
       "</g>\n",
       "<!-- 5 -->\n",
       "<g class=\"node\" id=\"node3\"><title>5</title>\n",
       "<polygon fill=\"none\" points=\"459.5,-469 333.5,-469 333.5,-401 459.5,-401 459.5,-469\" stroke=\"black\"/>\n",
       "<text font-family=\"Times,serif\" font-size=\"14.00\" text-anchor=\"middle\" x=\"396.5\" y=\"-453.8\">season &lt;= 3.0</text>\n",
       "<text font-family=\"Times,serif\" font-size=\"14.00\" text-anchor=\"middle\" x=\"396.5\" y=\"-438.8\">mse = 1039088.724</text>\n",
       "<text font-family=\"Times,serif\" font-size=\"14.00\" text-anchor=\"middle\" x=\"396.5\" y=\"-423.8\">samples = 157</text>\n",
       "<text font-family=\"Times,serif\" font-size=\"14.00\" text-anchor=\"middle\" x=\"396.5\" y=\"-408.8\">value = 2227.229</text>\n",
       "</g>\n",
       "<!-- 1&#45;&gt;5 -->\n",
       "<g class=\"edge\" id=\"edge2\"><title>1-&gt;5</title>\n",
       "<path d=\"M837.433,-525.236C743.843,-506.296 568.612,-470.832 469.564,-450.787\" fill=\"none\" stroke=\"black\"/>\n",
       "<polygon fill=\"black\" points=\"470.13,-447.331 459.635,-448.777 468.742,-454.191 470.13,-447.331\" stroke=\"black\"/>\n",
       "</g>\n",
       "<!-- 6 -->\n",
       "<g class=\"node\" id=\"node10\"><title>6</title>\n",
       "<polygon fill=\"none\" points=\"963.5,-469 837.5,-469 837.5,-401 963.5,-401 963.5,-469\" stroke=\"black\"/>\n",
       "<text font-family=\"Times,serif\" font-size=\"14.00\" text-anchor=\"middle\" x=\"900.5\" y=\"-453.8\">season &lt;= 1.5</text>\n",
       "<text font-family=\"Times,serif\" font-size=\"14.00\" text-anchor=\"middle\" x=\"900.5\" y=\"-438.8\">mse = 2019428.703</text>\n",
       "<text font-family=\"Times,serif\" font-size=\"14.00\" text-anchor=\"middle\" x=\"900.5\" y=\"-423.8\">samples = 139</text>\n",
       "<text font-family=\"Times,serif\" font-size=\"14.00\" text-anchor=\"middle\" x=\"900.5\" y=\"-408.8\">value = 3953.353</text>\n",
       "</g>\n",
       "<!-- 1&#45;&gt;6 -->\n",
       "<g class=\"edge\" id=\"edge9\"><title>1-&gt;6</title>\n",
       "<path d=\"M900.5,-504.884C900.5,-496.778 900.5,-487.982 900.5,-479.472\" fill=\"none\" stroke=\"black\"/>\n",
       "<polygon fill=\"black\" points=\"904,-479.299 900.5,-469.299 897,-479.299 904,-479.299\" stroke=\"black\"/>\n",
       "</g>\n",
       "<!-- 9 -->\n",
       "<g class=\"node\" id=\"node4\"><title>9</title>\n",
       "<polygon fill=\"none\" points=\"250,-365 137,-365 137,-297 250,-297 250,-365\" stroke=\"black\"/>\n",
       "<text font-family=\"Times,serif\" font-size=\"14.00\" text-anchor=\"middle\" x=\"193.5\" y=\"-349.8\">month &lt;= 2.5</text>\n",
       "<text font-family=\"Times,serif\" font-size=\"14.00\" text-anchor=\"middle\" x=\"193.5\" y=\"-334.8\">mse = 344731.62</text>\n",
       "<text font-family=\"Times,serif\" font-size=\"14.00\" text-anchor=\"middle\" x=\"193.5\" y=\"-319.8\">samples = 108</text>\n",
       "<text font-family=\"Times,serif\" font-size=\"14.00\" text-anchor=\"middle\" x=\"193.5\" y=\"-304.8\">value = 1711.139</text>\n",
       "</g>\n",
       "<!-- 5&#45;&gt;9 -->\n",
       "<g class=\"edge\" id=\"edge3\"><title>5-&gt;9</title>\n",
       "<path d=\"M333.382,-402.286C309.749,-390.411 282.859,-376.9 259.013,-364.918\" fill=\"none\" stroke=\"black\"/>\n",
       "<polygon fill=\"black\" points=\"260.543,-361.77 250.036,-360.407 257.4,-368.025 260.543,-361.77\" stroke=\"black\"/>\n",
       "</g>\n",
       "<!-- 10 -->\n",
       "<g class=\"node\" id=\"node7\"><title>10</title>\n",
       "<polygon fill=\"none\" points=\"457,-365 336,-365 336,-297 457,-297 457,-365\" stroke=\"black\"/>\n",
       "<text font-family=\"Times,serif\" font-size=\"14.00\" text-anchor=\"middle\" x=\"396.5\" y=\"-349.8\">humidity &lt;= 0.855</text>\n",
       "<text font-family=\"Times,serif\" font-size=\"14.00\" text-anchor=\"middle\" x=\"396.5\" y=\"-334.8\">mse = 688534.317</text>\n",
       "<text font-family=\"Times,serif\" font-size=\"14.00\" text-anchor=\"middle\" x=\"396.5\" y=\"-319.8\">samples = 49</text>\n",
       "<text font-family=\"Times,serif\" font-size=\"14.00\" text-anchor=\"middle\" x=\"396.5\" y=\"-304.8\">value = 3364.735</text>\n",
       "</g>\n",
       "<!-- 5&#45;&gt;10 -->\n",
       "<g class=\"edge\" id=\"edge6\"><title>5-&gt;10</title>\n",
       "<path d=\"M396.5,-400.884C396.5,-392.778 396.5,-383.982 396.5,-375.472\" fill=\"none\" stroke=\"black\"/>\n",
       "<polygon fill=\"black\" points=\"400,-375.299 396.5,-365.299 393,-375.299 400,-375.299\" stroke=\"black\"/>\n",
       "</g>\n",
       "<!-- 39 -->\n",
       "<g class=\"node\" id=\"node5\"><title>39</title>\n",
       "<polygon fill=\"none\" points=\"119,-253.5 0,-253.5 0,-200.5 119,-200.5 119,-253.5\" stroke=\"black\"/>\n",
       "<text font-family=\"Times,serif\" font-size=\"14.00\" text-anchor=\"middle\" x=\"59.5\" y=\"-238.3\">mse = 152891.098</text>\n",
       "<text font-family=\"Times,serif\" font-size=\"14.00\" text-anchor=\"middle\" x=\"59.5\" y=\"-223.3\">samples = 57</text>\n",
       "<text font-family=\"Times,serif\" font-size=\"14.00\" text-anchor=\"middle\" x=\"59.5\" y=\"-208.3\">value = 1421.088</text>\n",
       "</g>\n",
       "<!-- 9&#45;&gt;39 -->\n",
       "<g class=\"edge\" id=\"edge4\"><title>9-&gt;39</title>\n",
       "<path d=\"M149.994,-296.884C134.39,-285.006 116.839,-271.646 101.376,-259.876\" fill=\"none\" stroke=\"black\"/>\n",
       "<polygon fill=\"black\" points=\"103.103,-256.792 93.0262,-253.52 98.8633,-262.362 103.103,-256.792\" stroke=\"black\"/>\n",
       "</g>\n",
       "<!-- 40 -->\n",
       "<g class=\"node\" id=\"node6\"><title>40</title>\n",
       "<polygon fill=\"none\" points=\"250,-253.5 137,-253.5 137,-200.5 250,-200.5 250,-253.5\" stroke=\"black\"/>\n",
       "<text font-family=\"Times,serif\" font-size=\"14.00\" text-anchor=\"middle\" x=\"193.5\" y=\"-238.3\">mse = 360025.0</text>\n",
       "<text font-family=\"Times,serif\" font-size=\"14.00\" text-anchor=\"middle\" x=\"193.5\" y=\"-223.3\">samples = 51</text>\n",
       "<text font-family=\"Times,serif\" font-size=\"14.00\" text-anchor=\"middle\" x=\"193.5\" y=\"-208.3\">value = 2035.314</text>\n",
       "</g>\n",
       "<!-- 9&#45;&gt;40 -->\n",
       "<g class=\"edge\" id=\"edge5\"><title>9-&gt;40</title>\n",
       "<path d=\"M193.5,-296.884C193.5,-286.326 193.5,-274.597 193.5,-263.854\" fill=\"none\" stroke=\"black\"/>\n",
       "<polygon fill=\"black\" points=\"197,-263.52 193.5,-253.52 190,-263.52 197,-263.52\" stroke=\"black\"/>\n",
       "</g>\n",
       "<!-- 23 -->\n",
       "<g class=\"node\" id=\"node8\"><title>23</title>\n",
       "<polygon fill=\"none\" points=\"387,-253.5 268,-253.5 268,-200.5 387,-200.5 387,-253.5\" stroke=\"black\"/>\n",
       "<text font-family=\"Times,serif\" font-size=\"14.00\" text-anchor=\"middle\" x=\"327.5\" y=\"-238.3\">mse = 325352.029</text>\n",
       "<text font-family=\"Times,serif\" font-size=\"14.00\" text-anchor=\"middle\" x=\"327.5\" y=\"-223.3\">samples = 46</text>\n",
       "<text font-family=\"Times,serif\" font-size=\"14.00\" text-anchor=\"middle\" x=\"327.5\" y=\"-208.3\">value = 3520.283</text>\n",
       "</g>\n",
       "<!-- 10&#45;&gt;23 -->\n",
       "<g class=\"edge\" id=\"edge7\"><title>10-&gt;23</title>\n",
       "<path d=\"M374.098,-296.884C366.509,-285.666 358.027,-273.126 350.4,-261.852\" fill=\"none\" stroke=\"black\"/>\n",
       "<polygon fill=\"black\" points=\"353.266,-259.842 344.763,-253.52 347.468,-263.764 353.266,-259.842\" stroke=\"black\"/>\n",
       "</g>\n",
       "<!-- 24 -->\n",
       "<g class=\"node\" id=\"node9\"><title>24</title>\n",
       "<polygon fill=\"none\" points=\"524,-253.5 405,-253.5 405,-200.5 524,-200.5 524,-253.5\" stroke=\"black\"/>\n",
       "<text font-family=\"Times,serif\" font-size=\"14.00\" text-anchor=\"middle\" x=\"464.5\" y=\"-238.3\">mse = 197787.556</text>\n",
       "<text font-family=\"Times,serif\" font-size=\"14.00\" text-anchor=\"middle\" x=\"464.5\" y=\"-223.3\">samples = 3</text>\n",
       "<text font-family=\"Times,serif\" font-size=\"14.00\" text-anchor=\"middle\" x=\"464.5\" y=\"-208.3\">value = 979.667</text>\n",
       "</g>\n",
       "<!-- 10&#45;&gt;24 -->\n",
       "<g class=\"edge\" id=\"edge8\"><title>10-&gt;24</title>\n",
       "<path d=\"M418.578,-296.884C426.056,-285.666 434.416,-273.126 441.932,-261.852\" fill=\"none\" stroke=\"black\"/>\n",
       "<polygon fill=\"black\" points=\"444.852,-263.782 447.487,-253.52 439.027,-259.899 444.852,-263.782\" stroke=\"black\"/>\n",
       "</g>\n",
       "<!-- 7 -->\n",
       "<g class=\"node\" id=\"node11\"><title>7</title>\n",
       "<polygon fill=\"none\" points=\"866.5,-365 740.5,-365 740.5,-297 866.5,-297 866.5,-365\" stroke=\"black\"/>\n",
       "<text font-family=\"Times,serif\" font-size=\"14.00\" text-anchor=\"middle\" x=\"803.5\" y=\"-349.8\">temp &lt;= 0.28</text>\n",
       "<text font-family=\"Times,serif\" font-size=\"14.00\" text-anchor=\"middle\" x=\"803.5\" y=\"-334.8\">mse = 1041295.254</text>\n",
       "<text font-family=\"Times,serif\" font-size=\"14.00\" text-anchor=\"middle\" x=\"803.5\" y=\"-319.8\">samples = 78</text>\n",
       "<text font-family=\"Times,serif\" font-size=\"14.00\" text-anchor=\"middle\" x=\"803.5\" y=\"-304.8\">value = 3170.949</text>\n",
       "</g>\n",
       "<!-- 6&#45;&gt;7 -->\n",
       "<g class=\"edge\" id=\"edge10\"><title>6-&gt;7</title>\n",
       "<path d=\"M869.007,-400.884C860.451,-391.887 851.088,-382.041 842.184,-372.678\" fill=\"none\" stroke=\"black\"/>\n",
       "<polygon fill=\"black\" points=\"844.595,-370.134 835.167,-365.299 839.522,-374.958 844.595,-370.134\" stroke=\"black\"/>\n",
       "</g>\n",
       "<!-- 8 -->\n",
       "<g class=\"node\" id=\"node20\"><title>8</title>\n",
       "<polygon fill=\"none\" points=\"1101.5,-365 975.5,-365 975.5,-297 1101.5,-297 1101.5,-365\" stroke=\"black\"/>\n",
       "<text font-family=\"Times,serif\" font-size=\"14.00\" text-anchor=\"middle\" x=\"1038.5\" y=\"-349.8\">humidity &lt;= 0.765</text>\n",
       "<text font-family=\"Times,serif\" font-size=\"14.00\" text-anchor=\"middle\" x=\"1038.5\" y=\"-334.8\">mse = 1486498.519</text>\n",
       "<text font-family=\"Times,serif\" font-size=\"14.00\" text-anchor=\"middle\" x=\"1038.5\" y=\"-319.8\">samples = 61</text>\n",
       "<text font-family=\"Times,serif\" font-size=\"14.00\" text-anchor=\"middle\" x=\"1038.5\" y=\"-304.8\">value = 4953.803</text>\n",
       "</g>\n",
       "<!-- 6&#45;&gt;8 -->\n",
       "<g class=\"edge\" id=\"edge19\"><title>6-&gt;8</title>\n",
       "<path d=\"M945.305,-400.884C958.079,-391.442 972.12,-381.064 985.341,-371.292\" fill=\"none\" stroke=\"black\"/>\n",
       "<polygon fill=\"black\" points=\"987.487,-374.058 993.448,-365.299 983.326,-368.429 987.487,-374.058\" stroke=\"black\"/>\n",
       "</g>\n",
       "<!-- 15 -->\n",
       "<g class=\"node\" id=\"node12\"><title>15</title>\n",
       "<polygon fill=\"none\" points=\"663,-261 542,-261 542,-193 663,-193 663,-261\" stroke=\"black\"/>\n",
       "<text font-family=\"Times,serif\" font-size=\"14.00\" text-anchor=\"middle\" x=\"602.5\" y=\"-245.8\">humidity &lt;= 0.727</text>\n",
       "<text font-family=\"Times,serif\" font-size=\"14.00\" text-anchor=\"middle\" x=\"602.5\" y=\"-230.8\">mse = 649926.408</text>\n",
       "<text font-family=\"Times,serif\" font-size=\"14.00\" text-anchor=\"middle\" x=\"602.5\" y=\"-215.8\">samples = 37</text>\n",
       "<text font-family=\"Times,serif\" font-size=\"14.00\" text-anchor=\"middle\" x=\"602.5\" y=\"-200.8\">value = 2499.568</text>\n",
       "</g>\n",
       "<!-- 7&#45;&gt;15 -->\n",
       "<g class=\"edge\" id=\"edge11\"><title>7-&gt;15</title>\n",
       "<path d=\"M740.454,-298.006C718.799,-287.018 694.438,-274.655 672.28,-263.411\" fill=\"none\" stroke=\"black\"/>\n",
       "<polygon fill=\"black\" points=\"673.762,-260.238 663.26,-258.834 670.594,-266.48 673.762,-260.238\" stroke=\"black\"/>\n",
       "</g>\n",
       "<!-- 16 -->\n",
       "<g class=\"node\" id=\"node17\"><title>16</title>\n",
       "<polygon fill=\"none\" points=\"863,-261 744,-261 744,-193 863,-193 863,-261\" stroke=\"black\"/>\n",
       "<text font-family=\"Times,serif\" font-size=\"14.00\" text-anchor=\"middle\" x=\"803.5\" y=\"-245.8\">holiday &lt;= 0.5</text>\n",
       "<text font-family=\"Times,serif\" font-size=\"14.00\" text-anchor=\"middle\" x=\"803.5\" y=\"-230.8\">mse = 620613.751</text>\n",
       "<text font-family=\"Times,serif\" font-size=\"14.00\" text-anchor=\"middle\" x=\"803.5\" y=\"-215.8\">samples = 41</text>\n",
       "<text font-family=\"Times,serif\" font-size=\"14.00\" text-anchor=\"middle\" x=\"803.5\" y=\"-200.8\">value = 3776.829</text>\n",
       "</g>\n",
       "<!-- 7&#45;&gt;16 -->\n",
       "<g class=\"edge\" id=\"edge16\"><title>7-&gt;16</title>\n",
       "<path d=\"M803.5,-296.884C803.5,-288.778 803.5,-279.982 803.5,-271.472\" fill=\"none\" stroke=\"black\"/>\n",
       "<polygon fill=\"black\" points=\"807,-271.299 803.5,-261.299 800,-271.299 807,-271.299\" stroke=\"black\"/>\n",
       "</g>\n",
       "<!-- 45 -->\n",
       "<g class=\"node\" id=\"node13\"><title>45</title>\n",
       "<polygon fill=\"none\" points=\"492.5,-157 370.5,-157 370.5,-89 492.5,-89 492.5,-157\" stroke=\"black\"/>\n",
       "<text font-family=\"Times,serif\" font-size=\"14.00\" text-anchor=\"middle\" x=\"431.5\" y=\"-141.8\">windspeed &lt;= 0.23</text>\n",
       "<text font-family=\"Times,serif\" font-size=\"14.00\" text-anchor=\"middle\" x=\"431.5\" y=\"-126.8\">mse = 436816.168</text>\n",
       "<text font-family=\"Times,serif\" font-size=\"14.00\" text-anchor=\"middle\" x=\"431.5\" y=\"-111.8\">samples = 28</text>\n",
       "<text font-family=\"Times,serif\" font-size=\"14.00\" text-anchor=\"middle\" x=\"431.5\" y=\"-96.8\">value = 2746.214</text>\n",
       "</g>\n",
       "<!-- 15&#45;&gt;45 -->\n",
       "<g class=\"edge\" id=\"edge12\"><title>15-&gt;45</title>\n",
       "<path d=\"M546.981,-192.884C530.621,-183.125 512.584,-172.366 495.726,-162.31\" fill=\"none\" stroke=\"black\"/>\n",
       "<polygon fill=\"black\" points=\"497.414,-159.242 487.033,-157.125 493.828,-165.253 497.414,-159.242\" stroke=\"black\"/>\n",
       "</g>\n",
       "<!-- 46 -->\n",
       "<g class=\"node\" id=\"node16\"><title>46</title>\n",
       "<polygon fill=\"none\" points=\"630,-149.5 511,-149.5 511,-96.5 630,-96.5 630,-149.5\" stroke=\"black\"/>\n",
       "<text font-family=\"Times,serif\" font-size=\"14.00\" text-anchor=\"middle\" x=\"570.5\" y=\"-134.3\">mse = 534853.951</text>\n",
       "<text font-family=\"Times,serif\" font-size=\"14.00\" text-anchor=\"middle\" x=\"570.5\" y=\"-119.3\">samples = 9</text>\n",
       "<text font-family=\"Times,serif\" font-size=\"14.00\" text-anchor=\"middle\" x=\"570.5\" y=\"-104.3\">value = 1732.222</text>\n",
       "</g>\n",
       "<!-- 15&#45;&gt;46 -->\n",
       "<g class=\"edge\" id=\"edge15\"><title>15-&gt;46</title>\n",
       "<path d=\"M592.111,-192.884C588.729,-182.106 584.965,-170.108 581.538,-159.184\" fill=\"none\" stroke=\"black\"/>\n",
       "<polygon fill=\"black\" points=\"584.839,-158.014 578.506,-149.52 578.16,-160.109 584.839,-158.014\" stroke=\"black\"/>\n",
       "</g>\n",
       "<!-- 55 -->\n",
       "<g class=\"node\" id=\"node14\"><title>55</title>\n",
       "<polygon fill=\"none\" points=\"424,-53 305,-53 305,-0 424,-0 424,-53\" stroke=\"black\"/>\n",
       "<text font-family=\"Times,serif\" font-size=\"14.00\" text-anchor=\"middle\" x=\"364.5\" y=\"-37.8\">mse = 290018.052</text>\n",
       "<text font-family=\"Times,serif\" font-size=\"14.00\" text-anchor=\"middle\" x=\"364.5\" y=\"-22.8\">samples = 18</text>\n",
       "<text font-family=\"Times,serif\" font-size=\"14.00\" text-anchor=\"middle\" x=\"364.5\" y=\"-7.8\">value = 3055.944</text>\n",
       "</g>\n",
       "<!-- 45&#45;&gt;55 -->\n",
       "<g class=\"edge\" id=\"edge13\"><title>45-&gt;55</title>\n",
       "<path d=\"M408.067,-88.9485C401.775,-80.0749 394.962,-70.4648 388.633,-61.5388\" fill=\"none\" stroke=\"black\"/>\n",
       "<polygon fill=\"black\" points=\"391.386,-59.3701 382.747,-53.2367 385.676,-63.4188 391.386,-59.3701\" stroke=\"black\"/>\n",
       "</g>\n",
       "<!-- 56 -->\n",
       "<g class=\"node\" id=\"node15\"><title>56</title>\n",
       "<polygon fill=\"none\" points=\"555,-53 442,-53 442,-0 555,-0 555,-53\" stroke=\"black\"/>\n",
       "<text font-family=\"Times,serif\" font-size=\"14.00\" text-anchor=\"middle\" x=\"498.5\" y=\"-37.8\">mse = 217551.61</text>\n",
       "<text font-family=\"Times,serif\" font-size=\"14.00\" text-anchor=\"middle\" x=\"498.5\" y=\"-22.8\">samples = 10</text>\n",
       "<text font-family=\"Times,serif\" font-size=\"14.00\" text-anchor=\"middle\" x=\"498.5\" y=\"-7.8\">value = 2188.7</text>\n",
       "</g>\n",
       "<!-- 45&#45;&gt;56 -->\n",
       "<g class=\"edge\" id=\"edge14\"><title>45-&gt;56</title>\n",
       "<path d=\"M454.933,-88.9485C461.225,-80.0749 468.038,-70.4648 474.367,-61.5388\" fill=\"none\" stroke=\"black\"/>\n",
       "<polygon fill=\"black\" points=\"477.324,-63.4188 480.253,-53.2367 471.614,-59.3701 477.324,-63.4188\" stroke=\"black\"/>\n",
       "</g>\n",
       "<!-- 43 -->\n",
       "<g class=\"node\" id=\"node18\"><title>43</title>\n",
       "<polygon fill=\"none\" points=\"767,-149.5 648,-149.5 648,-96.5 767,-96.5 767,-149.5\" stroke=\"black\"/>\n",
       "<text font-family=\"Times,serif\" font-size=\"14.00\" text-anchor=\"middle\" x=\"707.5\" y=\"-134.3\">mse = 440386.069</text>\n",
       "<text font-family=\"Times,serif\" font-size=\"14.00\" text-anchor=\"middle\" x=\"707.5\" y=\"-119.3\">samples = 40</text>\n",
       "<text font-family=\"Times,serif\" font-size=\"14.00\" text-anchor=\"middle\" x=\"707.5\" y=\"-104.3\">value = 3845.925</text>\n",
       "</g>\n",
       "<!-- 16&#45;&gt;43 -->\n",
       "<g class=\"edge\" id=\"edge17\"><title>16-&gt;43</title>\n",
       "<path d=\"M772.332,-192.884C761.463,-181.336 749.276,-168.387 738.428,-156.86\" fill=\"none\" stroke=\"black\"/>\n",
       "<polygon fill=\"black\" points=\"740.921,-154.403 731.519,-149.52 735.824,-159.201 740.921,-154.403\" stroke=\"black\"/>\n",
       "</g>\n",
       "<!-- 44 -->\n",
       "<g class=\"node\" id=\"node19\"><title>44</title>\n",
       "<polygon fill=\"none\" points=\"884,-149.5 785,-149.5 785,-96.5 884,-96.5 884,-149.5\" stroke=\"black\"/>\n",
       "<text font-family=\"Times,serif\" font-size=\"14.00\" text-anchor=\"middle\" x=\"834.5\" y=\"-134.3\">mse = 0.0</text>\n",
       "<text font-family=\"Times,serif\" font-size=\"14.00\" text-anchor=\"middle\" x=\"834.5\" y=\"-119.3\">samples = 1</text>\n",
       "<text font-family=\"Times,serif\" font-size=\"14.00\" text-anchor=\"middle\" x=\"834.5\" y=\"-104.3\">value = 1013.0</text>\n",
       "</g>\n",
       "<!-- 16&#45;&gt;44 -->\n",
       "<g class=\"edge\" id=\"edge18\"><title>16-&gt;44</title>\n",
       "<path d=\"M813.565,-192.884C816.84,-182.106 820.487,-170.108 823.807,-159.184\" fill=\"none\" stroke=\"black\"/>\n",
       "<polygon fill=\"black\" points=\"827.185,-160.106 826.744,-149.52 820.487,-158.07 827.185,-160.106\" stroke=\"black\"/>\n",
       "</g>\n",
       "<!-- 19 -->\n",
       "<g class=\"node\" id=\"node21\"><title>19</title>\n",
       "<polygon fill=\"none\" points=\"1098,-261 979,-261 979,-193 1098,-193 1098,-261\" stroke=\"black\"/>\n",
       "<text font-family=\"Times,serif\" font-size=\"14.00\" text-anchor=\"middle\" x=\"1038.5\" y=\"-245.8\">temp &lt;= 0.28</text>\n",
       "<text font-family=\"Times,serif\" font-size=\"14.00\" text-anchor=\"middle\" x=\"1038.5\" y=\"-230.8\">mse = 939374.273</text>\n",
       "<text font-family=\"Times,serif\" font-size=\"14.00\" text-anchor=\"middle\" x=\"1038.5\" y=\"-215.8\">samples = 51</text>\n",
       "<text font-family=\"Times,serif\" font-size=\"14.00\" text-anchor=\"middle\" x=\"1038.5\" y=\"-200.8\">value = 5213.039</text>\n",
       "</g>\n",
       "<!-- 8&#45;&gt;19 -->\n",
       "<g class=\"edge\" id=\"edge20\"><title>8-&gt;19</title>\n",
       "<path d=\"M1038.5,-296.884C1038.5,-288.778 1038.5,-279.982 1038.5,-271.472\" fill=\"none\" stroke=\"black\"/>\n",
       "<polygon fill=\"black\" points=\"1042,-271.299 1038.5,-261.299 1035,-271.299 1042,-271.299\" stroke=\"black\"/>\n",
       "</g>\n",
       "<!-- 20 -->\n",
       "<g class=\"node\" id=\"node28\"><title>20</title>\n",
       "<polygon fill=\"none\" points=\"1310,-261 1191,-261 1191,-193 1310,-193 1310,-261\" stroke=\"black\"/>\n",
       "<text font-family=\"Times,serif\" font-size=\"14.00\" text-anchor=\"middle\" x=\"1250.5\" y=\"-245.8\">month &lt;= 10.5</text>\n",
       "<text font-family=\"Times,serif\" font-size=\"14.00\" text-anchor=\"middle\" x=\"1250.5\" y=\"-230.8\">mse = 2186138.41</text>\n",
       "<text font-family=\"Times,serif\" font-size=\"14.00\" text-anchor=\"middle\" x=\"1250.5\" y=\"-215.8\">samples = 10</text>\n",
       "<text font-family=\"Times,serif\" font-size=\"14.00\" text-anchor=\"middle\" x=\"1250.5\" y=\"-200.8\">value = 3631.7</text>\n",
       "</g>\n",
       "<!-- 8&#45;&gt;20 -->\n",
       "<g class=\"edge\" id=\"edge27\"><title>8-&gt;20</title>\n",
       "<path d=\"M1101.53,-299.673C1126.75,-287.539 1155.88,-273.526 1181.65,-261.126\" fill=\"none\" stroke=\"black\"/>\n",
       "<polygon fill=\"black\" points=\"1183.49,-264.127 1190.98,-256.637 1180.45,-257.819 1183.49,-264.127\" stroke=\"black\"/>\n",
       "</g>\n",
       "<!-- 37 -->\n",
       "<g class=\"node\" id=\"node22\"><title>37</title>\n",
       "<polygon fill=\"none\" points=\"1028.5,-157 902.5,-157 902.5,-89 1028.5,-89 1028.5,-157\" stroke=\"black\"/>\n",
       "<text font-family=\"Times,serif\" font-size=\"14.00\" text-anchor=\"middle\" x=\"965.5\" y=\"-141.8\">workingday &lt;= 0.5</text>\n",
       "<text font-family=\"Times,serif\" font-size=\"14.00\" text-anchor=\"middle\" x=\"965.5\" y=\"-126.8\">mse = 2036401.556</text>\n",
       "<text font-family=\"Times,serif\" font-size=\"14.00\" text-anchor=\"middle\" x=\"965.5\" y=\"-111.8\">samples = 3</text>\n",
       "<text font-family=\"Times,serif\" font-size=\"14.00\" text-anchor=\"middle\" x=\"965.5\" y=\"-96.8\">value = 3358.667</text>\n",
       "</g>\n",
       "<!-- 19&#45;&gt;37 -->\n",
       "<g class=\"edge\" id=\"edge21\"><title>19-&gt;37</title>\n",
       "<path d=\"M1014.8,-192.884C1008.55,-184.154 1001.73,-174.625 995.211,-165.514\" fill=\"none\" stroke=\"black\"/>\n",
       "<polygon fill=\"black\" points=\"997.998,-163.394 989.332,-157.299 992.306,-167.468 997.998,-163.394\" stroke=\"black\"/>\n",
       "</g>\n",
       "<!-- 38 -->\n",
       "<g class=\"node\" id=\"node25\"><title>38</title>\n",
       "<polygon fill=\"none\" points=\"1176,-157 1047,-157 1047,-89 1176,-89 1176,-157\" stroke=\"black\"/>\n",
       "<text font-family=\"Times,serif\" font-size=\"14.00\" text-anchor=\"middle\" x=\"1111.5\" y=\"-141.8\">windspeed &lt;= 0.055</text>\n",
       "<text font-family=\"Times,serif\" font-size=\"14.00\" text-anchor=\"middle\" x=\"1111.5\" y=\"-126.8\">mse = 642459.059</text>\n",
       "<text font-family=\"Times,serif\" font-size=\"14.00\" text-anchor=\"middle\" x=\"1111.5\" y=\"-111.8\">samples = 48</text>\n",
       "<text font-family=\"Times,serif\" font-size=\"14.00\" text-anchor=\"middle\" x=\"1111.5\" y=\"-96.8\">value = 5328.938</text>\n",
       "</g>\n",
       "<!-- 19&#45;&gt;38 -->\n",
       "<g class=\"edge\" id=\"edge24\"><title>19-&gt;38</title>\n",
       "<path d=\"M1062.2,-192.884C1068.45,-184.154 1075.27,-174.625 1081.79,-165.514\" fill=\"none\" stroke=\"black\"/>\n",
       "<polygon fill=\"black\" points=\"1084.69,-167.468 1087.67,-157.299 1079,-163.394 1084.69,-167.468\" stroke=\"black\"/>\n",
       "</g>\n",
       "<!-- 51 -->\n",
       "<g class=\"node\" id=\"node23\"><title>51</title>\n",
       "<polygon fill=\"none\" points=\"903,-53 804,-53 804,-0 903,-0 903,-53\" stroke=\"black\"/>\n",
       "<text font-family=\"Times,serif\" font-size=\"14.00\" text-anchor=\"middle\" x=\"853.5\" y=\"-37.8\">mse = 5402.25</text>\n",
       "<text font-family=\"Times,serif\" font-size=\"14.00\" text-anchor=\"middle\" x=\"853.5\" y=\"-22.8\">samples = 2</text>\n",
       "<text font-family=\"Times,serif\" font-size=\"14.00\" text-anchor=\"middle\" x=\"853.5\" y=\"-7.8\">value = 2350.5</text>\n",
       "</g>\n",
       "<!-- 37&#45;&gt;51 -->\n",
       "<g class=\"edge\" id=\"edge22\"><title>37-&gt;51</title>\n",
       "<path d=\"M926.328,-88.9485C915.16,-79.526 903.009,-69.2731 891.889,-59.8906\" fill=\"none\" stroke=\"black\"/>\n",
       "<polygon fill=\"black\" points=\"893.903,-57.0104 884.003,-53.2367 889.389,-62.3605 893.903,-57.0104\" stroke=\"black\"/>\n",
       "</g>\n",
       "<!-- 52 -->\n",
       "<g class=\"node\" id=\"node24\"><title>52</title>\n",
       "<polygon fill=\"none\" points=\"1020,-53 921,-53 921,-0 1020,-0 1020,-53\" stroke=\"black\"/>\n",
       "<text font-family=\"Times,serif\" font-size=\"14.00\" text-anchor=\"middle\" x=\"970.5\" y=\"-37.8\">mse = 0.0</text>\n",
       "<text font-family=\"Times,serif\" font-size=\"14.00\" text-anchor=\"middle\" x=\"970.5\" y=\"-22.8\">samples = 1</text>\n",
       "<text font-family=\"Times,serif\" font-size=\"14.00\" text-anchor=\"middle\" x=\"970.5\" y=\"-7.8\">value = 5375.0</text>\n",
       "</g>\n",
       "<!-- 37&#45;&gt;52 -->\n",
       "<g class=\"edge\" id=\"edge23\"><title>37-&gt;52</title>\n",
       "<path d=\"M967.249,-88.9485C967.684,-80.7153 968.154,-71.848 968.596,-63.4814\" fill=\"none\" stroke=\"black\"/>\n",
       "<polygon fill=\"black\" points=\"972.105,-63.4077 969.138,-53.2367 965.115,-63.0378 972.105,-63.4077\" stroke=\"black\"/>\n",
       "</g>\n",
       "<!-- 53 -->\n",
       "<g class=\"node\" id=\"node26\"><title>53</title>\n",
       "<polygon fill=\"none\" points=\"1157,-53 1044,-53 1044,-0 1157,-0 1157,-53\" stroke=\"black\"/>\n",
       "<text font-family=\"Times,serif\" font-size=\"14.00\" text-anchor=\"middle\" x=\"1100.5\" y=\"-37.8\">mse = 1771561.0</text>\n",
       "<text font-family=\"Times,serif\" font-size=\"14.00\" text-anchor=\"middle\" x=\"1100.5\" y=\"-22.8\">samples = 2</text>\n",
       "<text font-family=\"Times,serif\" font-size=\"14.00\" text-anchor=\"middle\" x=\"1100.5\" y=\"-7.8\">value = 3756.0</text>\n",
       "</g>\n",
       "<!-- 38&#45;&gt;53 -->\n",
       "<g class=\"edge\" id=\"edge25\"><title>38-&gt;53</title>\n",
       "<path d=\"M1107.65,-88.9485C1106.68,-80.6238 1105.64,-71.6509 1104.66,-63.2027\" fill=\"none\" stroke=\"black\"/>\n",
       "<polygon fill=\"black\" points=\"1108.13,-62.7649 1103.5,-53.2367 1101.18,-63.5743 1108.13,-62.7649\" stroke=\"black\"/>\n",
       "</g>\n",
       "<!-- 54 -->\n",
       "<g class=\"node\" id=\"node27\"><title>54</title>\n",
       "<polygon fill=\"none\" points=\"1294,-53 1175,-53 1175,-0 1294,-0 1294,-53\" stroke=\"black\"/>\n",
       "<text font-family=\"Times,serif\" font-size=\"14.00\" text-anchor=\"middle\" x=\"1234.5\" y=\"-37.8\">mse = 481119.698</text>\n",
       "<text font-family=\"Times,serif\" font-size=\"14.00\" text-anchor=\"middle\" x=\"1234.5\" y=\"-22.8\">samples = 46</text>\n",
       "<text font-family=\"Times,serif\" font-size=\"14.00\" text-anchor=\"middle\" x=\"1234.5\" y=\"-7.8\">value = 5397.326</text>\n",
       "</g>\n",
       "<!-- 38&#45;&gt;54 -->\n",
       "<g class=\"edge\" id=\"edge26\"><title>38-&gt;54</title>\n",
       "<path d=\"M1154.52,-88.9485C1167.02,-79.3431 1180.65,-68.8747 1193.05,-59.345\" fill=\"none\" stroke=\"black\"/>\n",
       "<polygon fill=\"black\" points=\"1195.2,-62.1046 1201,-53.2367 1190.94,-56.5537 1195.2,-62.1046\" stroke=\"black\"/>\n",
       "</g>\n",
       "<!-- 35 -->\n",
       "<g class=\"node\" id=\"node29\"><title>35</title>\n",
       "<polygon fill=\"none\" points=\"1307,-149.5 1194,-149.5 1194,-96.5 1307,-96.5 1307,-149.5\" stroke=\"black\"/>\n",
       "<text font-family=\"Times,serif\" font-size=\"14.00\" text-anchor=\"middle\" x=\"1250.5\" y=\"-134.3\">mse = 1030406.0</text>\n",
       "<text font-family=\"Times,serif\" font-size=\"14.00\" text-anchor=\"middle\" x=\"1250.5\" y=\"-119.3\">samples = 3</text>\n",
       "<text font-family=\"Times,serif\" font-size=\"14.00\" text-anchor=\"middle\" x=\"1250.5\" y=\"-104.3\">value = 1779.0</text>\n",
       "</g>\n",
       "<!-- 20&#45;&gt;35 -->\n",
       "<g class=\"edge\" id=\"edge28\"><title>20-&gt;35</title>\n",
       "<path d=\"M1250.5,-192.884C1250.5,-182.326 1250.5,-170.597 1250.5,-159.854\" fill=\"none\" stroke=\"black\"/>\n",
       "<polygon fill=\"black\" points=\"1254,-159.52 1250.5,-149.52 1247,-159.52 1254,-159.52\" stroke=\"black\"/>\n",
       "</g>\n",
       "<!-- 36 -->\n",
       "<g class=\"node\" id=\"node30\"><title>36</title>\n",
       "<polygon fill=\"none\" points=\"1444,-149.5 1325,-149.5 1325,-96.5 1444,-96.5 1444,-149.5\" stroke=\"black\"/>\n",
       "<text font-family=\"Times,serif\" font-size=\"14.00\" text-anchor=\"middle\" x=\"1384.5\" y=\"-134.3\">mse = 579923.347</text>\n",
       "<text font-family=\"Times,serif\" font-size=\"14.00\" text-anchor=\"middle\" x=\"1384.5\" y=\"-119.3\">samples = 7</text>\n",
       "<text font-family=\"Times,serif\" font-size=\"14.00\" text-anchor=\"middle\" x=\"1384.5\" y=\"-104.3\">value = 4425.714</text>\n",
       "</g>\n",
       "<!-- 20&#45;&gt;36 -->\n",
       "<g class=\"edge\" id=\"edge29\"><title>20-&gt;36</title>\n",
       "<path d=\"M1294.01,-192.884C1309.61,-181.006 1327.16,-167.646 1342.62,-155.876\" fill=\"none\" stroke=\"black\"/>\n",
       "<polygon fill=\"black\" points=\"1345.14,-158.362 1350.97,-149.52 1340.9,-152.792 1345.14,-158.362\" stroke=\"black\"/>\n",
       "</g>\n",
       "<!-- 3 -->\n",
       "<g class=\"node\" id=\"node32\"><title>3</title>\n",
       "<polygon fill=\"none\" points=\"1650,-469 1531,-469 1531,-401 1650,-401 1650,-469\" stroke=\"black\"/>\n",
       "<text font-family=\"Times,serif\" font-size=\"14.00\" text-anchor=\"middle\" x=\"1590.5\" y=\"-453.8\">weather &lt;= 2.5</text>\n",
       "<text font-family=\"Times,serif\" font-size=\"14.00\" text-anchor=\"middle\" x=\"1590.5\" y=\"-438.8\">mse = 702662.922</text>\n",
       "<text font-family=\"Times,serif\" font-size=\"14.00\" text-anchor=\"middle\" x=\"1590.5\" y=\"-423.8\">samples = 208</text>\n",
       "<text font-family=\"Times,serif\" font-size=\"14.00\" text-anchor=\"middle\" x=\"1590.5\" y=\"-408.8\">value = 4295.327</text>\n",
       "</g>\n",
       "<!-- 2&#45;&gt;3 -->\n",
       "<g class=\"edge\" id=\"edge31\"><title>2-&gt;3</title>\n",
       "<path d=\"M1590.5,-504.884C1590.5,-496.778 1590.5,-487.982 1590.5,-479.472\" fill=\"none\" stroke=\"black\"/>\n",
       "<polygon fill=\"black\" points=\"1594,-479.299 1590.5,-469.299 1587,-479.299 1594,-479.299\" stroke=\"black\"/>\n",
       "</g>\n",
       "<!-- 4 -->\n",
       "<g class=\"node\" id=\"node43\"><title>4</title>\n",
       "<polygon fill=\"none\" points=\"2354.5,-469 2228.5,-469 2228.5,-401 2354.5,-401 2354.5,-469\" stroke=\"black\"/>\n",
       "<text font-family=\"Times,serif\" font-size=\"14.00\" text-anchor=\"middle\" x=\"2291.5\" y=\"-453.8\">humidity &lt;= 0.832</text>\n",
       "<text font-family=\"Times,serif\" font-size=\"14.00\" text-anchor=\"middle\" x=\"2291.5\" y=\"-438.8\">mse = 1230966.341</text>\n",
       "<text font-family=\"Times,serif\" font-size=\"14.00\" text-anchor=\"middle\" x=\"2291.5\" y=\"-423.8\">samples = 227</text>\n",
       "<text font-family=\"Times,serif\" font-size=\"14.00\" text-anchor=\"middle\" x=\"2291.5\" y=\"-408.8\">value = 6608.194</text>\n",
       "</g>\n",
       "<!-- 2&#45;&gt;4 -->\n",
       "<g class=\"edge\" id=\"edge42\"><title>2-&gt;4</title>\n",
       "<path d=\"M1653.64,-528.813C1783.57,-509.907 2080.25,-466.738 2218.32,-446.648\" fill=\"none\" stroke=\"black\"/>\n",
       "<polygon fill=\"black\" points=\"2218.99,-450.088 2228.38,-445.184 2217.98,-443.161 2218.99,-450.088\" stroke=\"black\"/>\n",
       "</g>\n",
       "<!-- 13 -->\n",
       "<g class=\"node\" id=\"node33\"><title>13</title>\n",
       "<polygon fill=\"none\" points=\"1585,-365 1466,-365 1466,-297 1585,-297 1585,-365\" stroke=\"black\"/>\n",
       "<text font-family=\"Times,serif\" font-size=\"14.00\" text-anchor=\"middle\" x=\"1525.5\" y=\"-349.8\">month &lt;= 4.5</text>\n",
       "<text font-family=\"Times,serif\" font-size=\"14.00\" text-anchor=\"middle\" x=\"1525.5\" y=\"-334.8\">mse = 563373.378</text>\n",
       "<text font-family=\"Times,serif\" font-size=\"14.00\" text-anchor=\"middle\" x=\"1525.5\" y=\"-319.8\">samples = 200</text>\n",
       "<text font-family=\"Times,serif\" font-size=\"14.00\" text-anchor=\"middle\" x=\"1525.5\" y=\"-304.8\">value = 4374.32</text>\n",
       "</g>\n",
       "<!-- 3&#45;&gt;13 -->\n",
       "<g class=\"edge\" id=\"edge32\"><title>3-&gt;13</title>\n",
       "<path d=\"M1569.4,-400.884C1563.89,-392.243 1557.88,-382.819 1552.13,-373.793\" fill=\"none\" stroke=\"black\"/>\n",
       "<polygon fill=\"black\" points=\"1555.05,-371.852 1546.72,-365.299 1549.14,-375.614 1555.05,-371.852\" stroke=\"black\"/>\n",
       "</g>\n",
       "<!-- 14 -->\n",
       "<g class=\"node\" id=\"node42\"><title>14</title>\n",
       "<polygon fill=\"none\" points=\"1709.5,-357.5 1603.5,-357.5 1603.5,-304.5 1709.5,-304.5 1709.5,-357.5\" stroke=\"black\"/>\n",
       "<text font-family=\"Times,serif\" font-size=\"14.00\" text-anchor=\"middle\" x=\"1656.5\" y=\"-342.3\">mse = 128962.5</text>\n",
       "<text font-family=\"Times,serif\" font-size=\"14.00\" text-anchor=\"middle\" x=\"1656.5\" y=\"-327.3\">samples = 8</text>\n",
       "<text font-family=\"Times,serif\" font-size=\"14.00\" text-anchor=\"middle\" x=\"1656.5\" y=\"-312.3\">value = 2320.5</text>\n",
       "</g>\n",
       "<!-- 3&#45;&gt;14 -->\n",
       "<g class=\"edge\" id=\"edge41\"><title>3-&gt;14</title>\n",
       "<path d=\"M1611.93,-400.884C1619.12,-389.776 1627.14,-377.372 1634.38,-366.184\" fill=\"none\" stroke=\"black\"/>\n",
       "<polygon fill=\"black\" points=\"1637.49,-367.817 1639.99,-357.52 1631.62,-364.014 1637.49,-367.817\" stroke=\"black\"/>\n",
       "</g>\n",
       "<!-- 25 -->\n",
       "<g class=\"node\" id=\"node34\"><title>25</title>\n",
       "<polygon fill=\"none\" points=\"1516,-253.5 1397,-253.5 1397,-200.5 1516,-200.5 1516,-253.5\" stroke=\"black\"/>\n",
       "<text font-family=\"Times,serif\" font-size=\"14.00\" text-anchor=\"middle\" x=\"1456.5\" y=\"-238.3\">mse = 518045.359</text>\n",
       "<text font-family=\"Times,serif\" font-size=\"14.00\" text-anchor=\"middle\" x=\"1456.5\" y=\"-223.3\">samples = 24</text>\n",
       "<text font-family=\"Times,serif\" font-size=\"14.00\" text-anchor=\"middle\" x=\"1456.5\" y=\"-208.3\">value = 3564.125</text>\n",
       "</g>\n",
       "<!-- 13&#45;&gt;25 -->\n",
       "<g class=\"edge\" id=\"edge33\"><title>13-&gt;25</title>\n",
       "<path d=\"M1503.1,-296.884C1495.51,-285.666 1487.03,-273.126 1479.4,-261.852\" fill=\"none\" stroke=\"black\"/>\n",
       "<polygon fill=\"black\" points=\"1482.27,-259.842 1473.76,-253.52 1476.47,-263.764 1482.27,-259.842\" stroke=\"black\"/>\n",
       "</g>\n",
       "<!-- 26 -->\n",
       "<g class=\"node\" id=\"node35\"><title>26</title>\n",
       "<polygon fill=\"none\" points=\"1655,-261 1534,-261 1534,-193 1655,-193 1655,-261\" stroke=\"black\"/>\n",
       "<text font-family=\"Times,serif\" font-size=\"14.00\" text-anchor=\"middle\" x=\"1594.5\" y=\"-245.8\">humidity &lt;= 0.756</text>\n",
       "<text font-family=\"Times,serif\" font-size=\"14.00\" text-anchor=\"middle\" x=\"1594.5\" y=\"-230.8\">mse = 467837.125</text>\n",
       "<text font-family=\"Times,serif\" font-size=\"14.00\" text-anchor=\"middle\" x=\"1594.5\" y=\"-215.8\">samples = 176</text>\n",
       "<text font-family=\"Times,serif\" font-size=\"14.00\" text-anchor=\"middle\" x=\"1594.5\" y=\"-200.8\">value = 4484.801</text>\n",
       "</g>\n",
       "<!-- 13&#45;&gt;26 -->\n",
       "<g class=\"edge\" id=\"edge34\"><title>13-&gt;26</title>\n",
       "<path d=\"M1547.9,-296.884C1553.75,-288.243 1560.12,-278.819 1566.23,-269.793\" fill=\"none\" stroke=\"black\"/>\n",
       "<polygon fill=\"black\" points=\"1569.27,-271.543 1571.97,-261.299 1563.47,-267.621 1569.27,-271.543\" stroke=\"black\"/>\n",
       "</g>\n",
       "<!-- 33 -->\n",
       "<g class=\"node\" id=\"node36\"><title>33</title>\n",
       "<polygon fill=\"none\" points=\"1581,-157 1462,-157 1462,-89 1581,-89 1581,-157\" stroke=\"black\"/>\n",
       "<text font-family=\"Times,serif\" font-size=\"14.00\" text-anchor=\"middle\" x=\"1521.5\" y=\"-141.8\">temp &lt;= 0.807</text>\n",
       "<text font-family=\"Times,serif\" font-size=\"14.00\" text-anchor=\"middle\" x=\"1521.5\" y=\"-126.8\">mse = 290703.961</text>\n",
       "<text font-family=\"Times,serif\" font-size=\"14.00\" text-anchor=\"middle\" x=\"1521.5\" y=\"-111.8\">samples = 140</text>\n",
       "<text font-family=\"Times,serif\" font-size=\"14.00\" text-anchor=\"middle\" x=\"1521.5\" y=\"-96.8\">value = 4636.157</text>\n",
       "</g>\n",
       "<!-- 26&#45;&gt;33 -->\n",
       "<g class=\"edge\" id=\"edge35\"><title>26-&gt;33</title>\n",
       "<path d=\"M1570.8,-192.884C1564.55,-184.154 1557.73,-174.625 1551.21,-165.514\" fill=\"none\" stroke=\"black\"/>\n",
       "<polygon fill=\"black\" points=\"1554,-163.394 1545.33,-157.299 1548.31,-167.468 1554,-163.394\" stroke=\"black\"/>\n",
       "</g>\n",
       "<!-- 34 -->\n",
       "<g class=\"node\" id=\"node39\"><title>34</title>\n",
       "<polygon fill=\"none\" points=\"1728,-157 1599,-157 1599,-89 1728,-89 1728,-157\" stroke=\"black\"/>\n",
       "<text font-family=\"Times,serif\" font-size=\"14.00\" text-anchor=\"middle\" x=\"1663.5\" y=\"-141.8\">windspeed &lt;= 0.307</text>\n",
       "<text font-family=\"Times,serif\" font-size=\"14.00\" text-anchor=\"middle\" x=\"1663.5\" y=\"-126.8\">mse = 721141.323</text>\n",
       "<text font-family=\"Times,serif\" font-size=\"14.00\" text-anchor=\"middle\" x=\"1663.5\" y=\"-111.8\">samples = 36</text>\n",
       "<text font-family=\"Times,serif\" font-size=\"14.00\" text-anchor=\"middle\" x=\"1663.5\" y=\"-96.8\">value = 3896.194</text>\n",
       "</g>\n",
       "<!-- 26&#45;&gt;34 -->\n",
       "<g class=\"edge\" id=\"edge38\"><title>26-&gt;34</title>\n",
       "<path d=\"M1616.9,-192.884C1622.75,-184.243 1629.12,-174.819 1635.23,-165.793\" fill=\"none\" stroke=\"black\"/>\n",
       "<polygon fill=\"black\" points=\"1638.27,-167.543 1640.97,-157.299 1632.47,-163.621 1638.27,-167.543\" stroke=\"black\"/>\n",
       "</g>\n",
       "<!-- 47 -->\n",
       "<g class=\"node\" id=\"node37\"><title>47</title>\n",
       "<polygon fill=\"none\" points=\"1447,-53 1328,-53 1328,-0 1447,-0 1447,-53\" stroke=\"black\"/>\n",
       "<text font-family=\"Times,serif\" font-size=\"14.00\" text-anchor=\"middle\" x=\"1387.5\" y=\"-37.8\">mse = 254571.711</text>\n",
       "<text font-family=\"Times,serif\" font-size=\"14.00\" text-anchor=\"middle\" x=\"1387.5\" y=\"-22.8\">samples = 134</text>\n",
       "<text font-family=\"Times,serif\" font-size=\"14.00\" text-anchor=\"middle\" x=\"1387.5\" y=\"-7.8\">value = 4680.888</text>\n",
       "</g>\n",
       "<!-- 33&#45;&gt;47 -->\n",
       "<g class=\"edge\" id=\"edge36\"><title>33-&gt;47</title>\n",
       "<path d=\"M1474.63,-88.9485C1460.88,-79.2516 1445.89,-68.6752 1432.27,-59.073\" fill=\"none\" stroke=\"black\"/>\n",
       "<polygon fill=\"black\" points=\"1434.18,-56.1397 1423.99,-53.2367 1430.15,-61.8603 1434.18,-56.1397\" stroke=\"black\"/>\n",
       "</g>\n",
       "<!-- 48 -->\n",
       "<g class=\"node\" id=\"node38\"><title>48</title>\n",
       "<polygon fill=\"none\" points=\"1578,-53 1465,-53 1465,-0 1578,-0 1578,-53\" stroke=\"black\"/>\n",
       "<text font-family=\"Times,serif\" font-size=\"14.00\" text-anchor=\"middle\" x=\"1521.5\" y=\"-37.8\">mse = 54989.806</text>\n",
       "<text font-family=\"Times,serif\" font-size=\"14.00\" text-anchor=\"middle\" x=\"1521.5\" y=\"-22.8\">samples = 6</text>\n",
       "<text font-family=\"Times,serif\" font-size=\"14.00\" text-anchor=\"middle\" x=\"1521.5\" y=\"-7.8\">value = 3637.167</text>\n",
       "</g>\n",
       "<!-- 33&#45;&gt;48 -->\n",
       "<g class=\"edge\" id=\"edge37\"><title>33-&gt;48</title>\n",
       "<path d=\"M1521.5,-88.9485C1521.5,-80.7153 1521.5,-71.848 1521.5,-63.4814\" fill=\"none\" stroke=\"black\"/>\n",
       "<polygon fill=\"black\" points=\"1525,-63.2367 1521.5,-53.2367 1518,-63.2367 1525,-63.2367\" stroke=\"black\"/>\n",
       "</g>\n",
       "<!-- 41 -->\n",
       "<g class=\"node\" id=\"node40\"><title>41</title>\n",
       "<polygon fill=\"none\" points=\"1715,-53 1596,-53 1596,-0 1715,-0 1715,-53\" stroke=\"black\"/>\n",
       "<text font-family=\"Times,serif\" font-size=\"14.00\" text-anchor=\"middle\" x=\"1655.5\" y=\"-37.8\">mse = 469396.045</text>\n",
       "<text font-family=\"Times,serif\" font-size=\"14.00\" text-anchor=\"middle\" x=\"1655.5\" y=\"-22.8\">samples = 34</text>\n",
       "<text font-family=\"Times,serif\" font-size=\"14.00\" text-anchor=\"middle\" x=\"1655.5\" y=\"-7.8\">value = 4017.118</text>\n",
       "</g>\n",
       "<!-- 34&#45;&gt;41 -->\n",
       "<g class=\"edge\" id=\"edge39\"><title>34-&gt;41</title>\n",
       "<path d=\"M1660.7,-88.9485C1660,-80.6238 1659.24,-71.6509 1658.52,-63.2027\" fill=\"none\" stroke=\"black\"/>\n",
       "<polygon fill=\"black\" points=\"1662.01,-62.9058 1657.68,-53.2367 1655.03,-63.4963 1662.01,-62.9058\" stroke=\"black\"/>\n",
       "</g>\n",
       "<!-- 42 -->\n",
       "<g class=\"node\" id=\"node41\"><title>42</title>\n",
       "<polygon fill=\"none\" points=\"1846,-53 1733,-53 1733,-0 1846,-0 1846,-53\" stroke=\"black\"/>\n",
       "<text font-family=\"Times,serif\" font-size=\"14.00\" text-anchor=\"middle\" x=\"1789.5\" y=\"-37.8\">mse = 526350.25</text>\n",
       "<text font-family=\"Times,serif\" font-size=\"14.00\" text-anchor=\"middle\" x=\"1789.5\" y=\"-22.8\">samples = 2</text>\n",
       "<text font-family=\"Times,serif\" font-size=\"14.00\" text-anchor=\"middle\" x=\"1789.5\" y=\"-7.8\">value = 1840.5</text>\n",
       "</g>\n",
       "<!-- 34&#45;&gt;42 -->\n",
       "<g class=\"edge\" id=\"edge40\"><title>34-&gt;42</title>\n",
       "<path d=\"M1707.57,-88.9485C1720.38,-79.3431 1734.33,-68.8747 1747.04,-59.345\" fill=\"none\" stroke=\"black\"/>\n",
       "<polygon fill=\"black\" points=\"1749.28,-62.0368 1755.18,-53.2367 1745.08,-56.4367 1749.28,-62.0368\" stroke=\"black\"/>\n",
       "</g>\n",
       "<!-- 11 -->\n",
       "<g class=\"node\" id=\"node44\"><title>11</title>\n",
       "<polygon fill=\"none\" points=\"2351,-365 2232,-365 2232,-297 2351,-297 2351,-365\" stroke=\"black\"/>\n",
       "<text font-family=\"Times,serif\" font-size=\"14.00\" text-anchor=\"middle\" x=\"2291.5\" y=\"-349.8\">month &lt;= 5.5</text>\n",
       "<text font-family=\"Times,serif\" font-size=\"14.00\" text-anchor=\"middle\" x=\"2291.5\" y=\"-334.8\">mse = 893302.284</text>\n",
       "<text font-family=\"Times,serif\" font-size=\"14.00\" text-anchor=\"middle\" x=\"2291.5\" y=\"-319.8\">samples = 216</text>\n",
       "<text font-family=\"Times,serif\" font-size=\"14.00\" text-anchor=\"middle\" x=\"2291.5\" y=\"-304.8\">value = 6726.176</text>\n",
       "</g>\n",
       "<!-- 4&#45;&gt;11 -->\n",
       "<g class=\"edge\" id=\"edge43\"><title>4-&gt;11</title>\n",
       "<path d=\"M2291.5,-400.884C2291.5,-392.778 2291.5,-383.982 2291.5,-375.472\" fill=\"none\" stroke=\"black\"/>\n",
       "<polygon fill=\"black\" points=\"2295,-375.299 2291.5,-365.299 2288,-375.299 2295,-375.299\" stroke=\"black\"/>\n",
       "</g>\n",
       "<!-- 12 -->\n",
       "<g class=\"node\" id=\"node57\"><title>12</title>\n",
       "<polygon fill=\"none\" points=\"2563,-365 2434,-365 2434,-297 2563,-297 2563,-365\" stroke=\"black\"/>\n",
       "<text font-family=\"Times,serif\" font-size=\"14.00\" text-anchor=\"middle\" x=\"2498.5\" y=\"-349.8\">windspeed &lt;= 0.358</text>\n",
       "<text font-family=\"Times,serif\" font-size=\"14.00\" text-anchor=\"middle\" x=\"2498.5\" y=\"-334.8\">mse = 2220845.884</text>\n",
       "<text font-family=\"Times,serif\" font-size=\"14.00\" text-anchor=\"middle\" x=\"2498.5\" y=\"-319.8\">samples = 11</text>\n",
       "<text font-family=\"Times,serif\" font-size=\"14.00\" text-anchor=\"middle\" x=\"2498.5\" y=\"-304.8\">value = 4291.455</text>\n",
       "</g>\n",
       "<!-- 4&#45;&gt;12 -->\n",
       "<g class=\"edge\" id=\"edge56\"><title>4-&gt;12</title>\n",
       "<path d=\"M2354.73,-402.842C2376.88,-391.929 2401.94,-379.58 2424.86,-368.284\" fill=\"none\" stroke=\"black\"/>\n",
       "<polygon fill=\"black\" points=\"2426.45,-371.407 2433.87,-363.847 2423.35,-365.128 2426.45,-371.407\" stroke=\"black\"/>\n",
       "</g>\n",
       "<!-- 17 -->\n",
       "<g class=\"node\" id=\"node45\"><title>17</title>\n",
       "<polygon fill=\"none\" points=\"2283,-261 2170,-261 2170,-193 2283,-193 2283,-261\" stroke=\"black\"/>\n",
       "<text font-family=\"Times,serif\" font-size=\"14.00\" text-anchor=\"middle\" x=\"2226.5\" y=\"-245.8\">weekday &lt;= 4.5</text>\n",
       "<text font-family=\"Times,serif\" font-size=\"14.00\" text-anchor=\"middle\" x=\"2226.5\" y=\"-230.8\">mse = 883909.16</text>\n",
       "<text font-family=\"Times,serif\" font-size=\"14.00\" text-anchor=\"middle\" x=\"2226.5\" y=\"-215.8\">samples = 71</text>\n",
       "<text font-family=\"Times,serif\" font-size=\"14.00\" text-anchor=\"middle\" x=\"2226.5\" y=\"-200.8\">value = 6221.282</text>\n",
       "</g>\n",
       "<!-- 11&#45;&gt;17 -->\n",
       "<g class=\"edge\" id=\"edge44\"><title>11-&gt;17</title>\n",
       "<path d=\"M2270.4,-296.884C2264.89,-288.243 2258.88,-278.819 2253.13,-269.793\" fill=\"none\" stroke=\"black\"/>\n",
       "<polygon fill=\"black\" points=\"2256.05,-267.852 2247.72,-261.299 2250.14,-271.614 2256.05,-267.852\" stroke=\"black\"/>\n",
       "</g>\n",
       "<!-- 18 -->\n",
       "<g class=\"node\" id=\"node52\"><title>18</title>\n",
       "<polygon fill=\"none\" points=\"2424,-261 2305,-261 2305,-193 2424,-193 2424,-261\" stroke=\"black\"/>\n",
       "<text font-family=\"Times,serif\" font-size=\"14.00\" text-anchor=\"middle\" x=\"2364.5\" y=\"-245.8\">temp &lt;= 0.765</text>\n",
       "<text font-family=\"Times,serif\" font-size=\"14.00\" text-anchor=\"middle\" x=\"2364.5\" y=\"-230.8\">mse = 711959.923</text>\n",
       "<text font-family=\"Times,serif\" font-size=\"14.00\" text-anchor=\"middle\" x=\"2364.5\" y=\"-215.8\">samples = 145</text>\n",
       "<text font-family=\"Times,serif\" font-size=\"14.00\" text-anchor=\"middle\" x=\"2364.5\" y=\"-200.8\">value = 6973.4</text>\n",
       "</g>\n",
       "<!-- 11&#45;&gt;18 -->\n",
       "<g class=\"edge\" id=\"edge51\"><title>11-&gt;18</title>\n",
       "<path d=\"M2315.2,-296.884C2321.45,-288.154 2328.27,-278.625 2334.79,-269.514\" fill=\"none\" stroke=\"black\"/>\n",
       "<polygon fill=\"black\" points=\"2337.69,-271.468 2340.67,-261.299 2332,-267.394 2337.69,-271.468\" stroke=\"black\"/>\n",
       "</g>\n",
       "<!-- 27 -->\n",
       "<g class=\"node\" id=\"node46\"><title>27</title>\n",
       "<polygon fill=\"none\" points=\"2117,-157 1998,-157 1998,-89 2117,-89 2117,-157\" stroke=\"black\"/>\n",
       "<text font-family=\"Times,serif\" font-size=\"14.00\" text-anchor=\"middle\" x=\"2057.5\" y=\"-141.8\">weather &lt;= 1.5</text>\n",
       "<text font-family=\"Times,serif\" font-size=\"14.00\" text-anchor=\"middle\" x=\"2057.5\" y=\"-126.8\">mse = 714903.494</text>\n",
       "<text font-family=\"Times,serif\" font-size=\"14.00\" text-anchor=\"middle\" x=\"2057.5\" y=\"-111.8\">samples = 55</text>\n",
       "<text font-family=\"Times,serif\" font-size=\"14.00\" text-anchor=\"middle\" x=\"2057.5\" y=\"-96.8\">value = 5960.182</text>\n",
       "</g>\n",
       "<!-- 17&#45;&gt;27 -->\n",
       "<g class=\"edge\" id=\"edge45\"><title>17-&gt;27</title>\n",
       "<path d=\"M2171.63,-192.884C2155.46,-183.125 2137.64,-172.366 2120.97,-162.31\" fill=\"none\" stroke=\"black\"/>\n",
       "<polygon fill=\"black\" points=\"2122.75,-159.296 2112.38,-157.125 2119.14,-165.289 2122.75,-159.296\" stroke=\"black\"/>\n",
       "</g>\n",
       "<!-- 28 -->\n",
       "<g class=\"node\" id=\"node49\"><title>28</title>\n",
       "<polygon fill=\"none\" points=\"2291,-157 2162,-157 2162,-89 2291,-89 2291,-157\" stroke=\"black\"/>\n",
       "<text font-family=\"Times,serif\" font-size=\"14.00\" text-anchor=\"middle\" x=\"2226.5\" y=\"-141.8\">windspeed &lt;= 0.139</text>\n",
       "<text font-family=\"Times,serif\" font-size=\"14.00\" text-anchor=\"middle\" x=\"2226.5\" y=\"-126.8\">mse = 424959.402</text>\n",
       "<text font-family=\"Times,serif\" font-size=\"14.00\" text-anchor=\"middle\" x=\"2226.5\" y=\"-111.8\">samples = 16</text>\n",
       "<text font-family=\"Times,serif\" font-size=\"14.00\" text-anchor=\"middle\" x=\"2226.5\" y=\"-96.8\">value = 7118.812</text>\n",
       "</g>\n",
       "<!-- 17&#45;&gt;28 -->\n",
       "<g class=\"edge\" id=\"edge48\"><title>17-&gt;28</title>\n",
       "<path d=\"M2226.5,-192.884C2226.5,-184.778 2226.5,-175.982 2226.5,-167.472\" fill=\"none\" stroke=\"black\"/>\n",
       "<polygon fill=\"black\" points=\"2230,-167.299 2226.5,-157.299 2223,-167.299 2230,-167.299\" stroke=\"black\"/>\n",
       "</g>\n",
       "<!-- 49 -->\n",
       "<g class=\"node\" id=\"node47\"><title>49</title>\n",
       "<polygon fill=\"none\" points=\"1983,-53 1864,-53 1864,-0 1983,-0 1983,-53\" stroke=\"black\"/>\n",
       "<text font-family=\"Times,serif\" font-size=\"14.00\" text-anchor=\"middle\" x=\"1923.5\" y=\"-37.8\">mse = 457016.637</text>\n",
       "<text font-family=\"Times,serif\" font-size=\"14.00\" text-anchor=\"middle\" x=\"1923.5\" y=\"-22.8\">samples = 38</text>\n",
       "<text font-family=\"Times,serif\" font-size=\"14.00\" text-anchor=\"middle\" x=\"1923.5\" y=\"-7.8\">value = 6183.684</text>\n",
       "</g>\n",
       "<!-- 27&#45;&gt;49 -->\n",
       "<g class=\"edge\" id=\"edge46\"><title>27-&gt;49</title>\n",
       "<path d=\"M2010.63,-88.9485C1996.88,-79.2516 1981.89,-68.6752 1968.27,-59.073\" fill=\"none\" stroke=\"black\"/>\n",
       "<polygon fill=\"black\" points=\"1970.18,-56.1397 1959.99,-53.2367 1966.15,-61.8603 1970.18,-56.1397\" stroke=\"black\"/>\n",
       "</g>\n",
       "<!-- 50 -->\n",
       "<g class=\"node\" id=\"node48\"><title>50</title>\n",
       "<polygon fill=\"none\" points=\"2114,-53 2001,-53 2001,-0 2114,-0 2114,-53\" stroke=\"black\"/>\n",
       "<text font-family=\"Times,serif\" font-size=\"14.00\" text-anchor=\"middle\" x=\"2057.5\" y=\"-37.8\">mse = 930102.36</text>\n",
       "<text font-family=\"Times,serif\" font-size=\"14.00\" text-anchor=\"middle\" x=\"2057.5\" y=\"-22.8\">samples = 17</text>\n",
       "<text font-family=\"Times,serif\" font-size=\"14.00\" text-anchor=\"middle\" x=\"2057.5\" y=\"-7.8\">value = 5460.588</text>\n",
       "</g>\n",
       "<!-- 27&#45;&gt;50 -->\n",
       "<g class=\"edge\" id=\"edge47\"><title>27-&gt;50</title>\n",
       "<path d=\"M2057.5,-88.9485C2057.5,-80.7153 2057.5,-71.848 2057.5,-63.4814\" fill=\"none\" stroke=\"black\"/>\n",
       "<polygon fill=\"black\" points=\"2061,-63.2367 2057.5,-53.2367 2054,-63.2367 2061,-63.2367\" stroke=\"black\"/>\n",
       "</g>\n",
       "<!-- 57 -->\n",
       "<g class=\"node\" id=\"node50\"><title>57</title>\n",
       "<polygon fill=\"none\" points=\"2238.5,-53 2132.5,-53 2132.5,-0 2238.5,-0 2238.5,-53\" stroke=\"black\"/>\n",
       "<text font-family=\"Times,serif\" font-size=\"14.00\" text-anchor=\"middle\" x=\"2185.5\" y=\"-37.8\">mse = 132403.6</text>\n",
       "<text font-family=\"Times,serif\" font-size=\"14.00\" text-anchor=\"middle\" x=\"2185.5\" y=\"-22.8\">samples = 5</text>\n",
       "<text font-family=\"Times,serif\" font-size=\"14.00\" text-anchor=\"middle\" x=\"2185.5\" y=\"-7.8\">value = 7912.0</text>\n",
       "</g>\n",
       "<!-- 28&#45;&gt;57 -->\n",
       "<g class=\"edge\" id=\"edge49\"><title>28-&gt;57</title>\n",
       "<path d=\"M2212.16,-88.9485C2208.47,-80.4408 2204.48,-71.2562 2200.75,-62.6464\" fill=\"none\" stroke=\"black\"/>\n",
       "<polygon fill=\"black\" points=\"2203.86,-61.0174 2196.67,-53.2367 2197.44,-63.8036 2203.86,-61.0174\" stroke=\"black\"/>\n",
       "</g>\n",
       "<!-- 58 -->\n",
       "<g class=\"node\" id=\"node51\"><title>58</title>\n",
       "<polygon fill=\"none\" points=\"2376,-53 2257,-53 2257,-0 2376,-0 2376,-53\" stroke=\"black\"/>\n",
       "<text font-family=\"Times,serif\" font-size=\"14.00\" text-anchor=\"middle\" x=\"2316.5\" y=\"-37.8\">mse = 141974.744</text>\n",
       "<text font-family=\"Times,serif\" font-size=\"14.00\" text-anchor=\"middle\" x=\"2316.5\" y=\"-22.8\">samples = 11</text>\n",
       "<text font-family=\"Times,serif\" font-size=\"14.00\" text-anchor=\"middle\" x=\"2316.5\" y=\"-7.8\">value = 6758.273</text>\n",
       "</g>\n",
       "<!-- 28&#45;&gt;58 -->\n",
       "<g class=\"edge\" id=\"edge50\"><title>28-&gt;58</title>\n",
       "<path d=\"M2257.98,-88.9485C2266.69,-79.8005 2276.15,-69.8697 2284.87,-60.7126\" fill=\"none\" stroke=\"black\"/>\n",
       "<polygon fill=\"black\" points=\"2287.63,-62.8919 2291.99,-53.2367 2282.56,-58.0643 2287.63,-62.8919\" stroke=\"black\"/>\n",
       "</g>\n",
       "<!-- 29 -->\n",
       "<g class=\"node\" id=\"node53\"><title>29</title>\n",
       "<polygon fill=\"none\" points=\"2484,-157 2363,-157 2363,-89 2484,-89 2484,-157\" stroke=\"black\"/>\n",
       "<text font-family=\"Times,serif\" font-size=\"14.00\" text-anchor=\"middle\" x=\"2423.5\" y=\"-141.8\">humidity &lt;= 0.694</text>\n",
       "<text font-family=\"Times,serif\" font-size=\"14.00\" text-anchor=\"middle\" x=\"2423.5\" y=\"-126.8\">mse = 611536.926</text>\n",
       "<text font-family=\"Times,serif\" font-size=\"14.00\" text-anchor=\"middle\" x=\"2423.5\" y=\"-111.8\">samples = 124</text>\n",
       "<text font-family=\"Times,serif\" font-size=\"14.00\" text-anchor=\"middle\" x=\"2423.5\" y=\"-96.8\">value = 7112.54</text>\n",
       "</g>\n",
       "<!-- 18&#45;&gt;29 -->\n",
       "<g class=\"edge\" id=\"edge52\"><title>18-&gt;29</title>\n",
       "<path d=\"M2383.66,-192.884C2388.6,-184.332 2393.99,-175.013 2399.16,-166.072\" fill=\"none\" stroke=\"black\"/>\n",
       "<polygon fill=\"black\" points=\"2402.26,-167.708 2404.24,-157.299 2396.2,-164.203 2402.26,-167.708\" stroke=\"black\"/>\n",
       "</g>\n",
       "<!-- 30 -->\n",
       "<g class=\"node\" id=\"node56\"><title>30</title>\n",
       "<polygon fill=\"none\" points=\"2621,-149.5 2502,-149.5 2502,-96.5 2621,-96.5 2621,-149.5\" stroke=\"black\"/>\n",
       "<text font-family=\"Times,serif\" font-size=\"14.00\" text-anchor=\"middle\" x=\"2561.5\" y=\"-134.3\">mse = 515606.535</text>\n",
       "<text font-family=\"Times,serif\" font-size=\"14.00\" text-anchor=\"middle\" x=\"2561.5\" y=\"-119.3\">samples = 21</text>\n",
       "<text font-family=\"Times,serif\" font-size=\"14.00\" text-anchor=\"middle\" x=\"2561.5\" y=\"-104.3\">value = 6151.81</text>\n",
       "</g>\n",
       "<!-- 18&#45;&gt;30 -->\n",
       "<g class=\"edge\" id=\"edge55\"><title>18-&gt;30</title>\n",
       "<path d=\"M2424.14,-195.12C2449.15,-182.169 2478.15,-167.156 2503.04,-154.271\" fill=\"none\" stroke=\"black\"/>\n",
       "<polygon fill=\"black\" points=\"2504.73,-157.334 2512,-149.628 2501.51,-151.118 2504.73,-157.334\" stroke=\"black\"/>\n",
       "</g>\n",
       "<!-- 31 -->\n",
       "<g class=\"node\" id=\"node54\"><title>31</title>\n",
       "<polygon fill=\"none\" points=\"2507,-53 2394,-53 2394,-0 2507,-0 2507,-53\" stroke=\"black\"/>\n",
       "<text font-family=\"Times,serif\" font-size=\"14.00\" text-anchor=\"middle\" x=\"2450.5\" y=\"-37.8\">mse = 279698.73</text>\n",
       "<text font-family=\"Times,serif\" font-size=\"14.00\" text-anchor=\"middle\" x=\"2450.5\" y=\"-22.8\">samples = 90</text>\n",
       "<text font-family=\"Times,serif\" font-size=\"14.00\" text-anchor=\"middle\" x=\"2450.5\" y=\"-7.8\">value = 7366.678</text>\n",
       "</g>\n",
       "<!-- 29&#45;&gt;31 -->\n",
       "<g class=\"edge\" id=\"edge53\"><title>29-&gt;31</title>\n",
       "<path d=\"M2432.94,-88.9485C2435.35,-80.5323 2437.94,-71.4536 2440.38,-62.9243\" fill=\"none\" stroke=\"black\"/>\n",
       "<polygon fill=\"black\" points=\"2443.76,-63.8135 2443.15,-53.2367 2437.03,-61.8904 2443.76,-63.8135\" stroke=\"black\"/>\n",
       "</g>\n",
       "<!-- 32 -->\n",
       "<g class=\"node\" id=\"node55\"><title>32</title>\n",
       "<polygon fill=\"none\" points=\"2644,-53 2525,-53 2525,-0 2644,-0 2644,-53\" stroke=\"black\"/>\n",
       "<text font-family=\"Times,serif\" font-size=\"14.00\" text-anchor=\"middle\" x=\"2584.5\" y=\"-37.8\">mse = 866421.734</text>\n",
       "<text font-family=\"Times,serif\" font-size=\"14.00\" text-anchor=\"middle\" x=\"2584.5\" y=\"-22.8\">samples = 34</text>\n",
       "<text font-family=\"Times,serif\" font-size=\"14.00\" text-anchor=\"middle\" x=\"2584.5\" y=\"-7.8\">value = 6439.824</text>\n",
       "</g>\n",
       "<!-- 29&#45;&gt;32 -->\n",
       "<g class=\"edge\" id=\"edge54\"><title>29-&gt;32</title>\n",
       "<path d=\"M2479.81,-88.9485C2496.72,-79.0237 2515.2,-68.1776 2531.86,-58.3977\" fill=\"none\" stroke=\"black\"/>\n",
       "<polygon fill=\"black\" points=\"2534.06,-61.1672 2540.91,-53.0867 2530.51,-55.1303 2534.06,-61.1672\" stroke=\"black\"/>\n",
       "</g>\n",
       "<!-- 21 -->\n",
       "<g class=\"node\" id=\"node58\"><title>21</title>\n",
       "<polygon fill=\"none\" points=\"2555,-253.5 2442,-253.5 2442,-200.5 2555,-200.5 2555,-253.5\" stroke=\"black\"/>\n",
       "<text font-family=\"Times,serif\" font-size=\"14.00\" text-anchor=\"middle\" x=\"2498.5\" y=\"-238.3\">mse = 437823.84</text>\n",
       "<text font-family=\"Times,serif\" font-size=\"14.00\" text-anchor=\"middle\" x=\"2498.5\" y=\"-223.3\">samples = 10</text>\n",
       "<text font-family=\"Times,serif\" font-size=\"14.00\" text-anchor=\"middle\" x=\"2498.5\" y=\"-208.3\">value = 4718.4</text>\n",
       "</g>\n",
       "<!-- 12&#45;&gt;21 -->\n",
       "<g class=\"edge\" id=\"edge57\"><title>12-&gt;21</title>\n",
       "<path d=\"M2498.5,-296.884C2498.5,-286.326 2498.5,-274.597 2498.5,-263.854\" fill=\"none\" stroke=\"black\"/>\n",
       "<polygon fill=\"black\" points=\"2502,-263.52 2498.5,-253.52 2495,-263.52 2502,-263.52\" stroke=\"black\"/>\n",
       "</g>\n",
       "<!-- 22 -->\n",
       "<g class=\"node\" id=\"node59\"><title>22</title>\n",
       "<polygon fill=\"none\" points=\"2659.5,-253.5 2573.5,-253.5 2573.5,-200.5 2659.5,-200.5 2659.5,-253.5\" stroke=\"black\"/>\n",
       "<text font-family=\"Times,serif\" font-size=\"14.00\" text-anchor=\"middle\" x=\"2616.5\" y=\"-238.3\">mse = 0.0</text>\n",
       "<text font-family=\"Times,serif\" font-size=\"14.00\" text-anchor=\"middle\" x=\"2616.5\" y=\"-223.3\">samples = 1</text>\n",
       "<text font-family=\"Times,serif\" font-size=\"14.00\" text-anchor=\"middle\" x=\"2616.5\" y=\"-208.3\">value = 22.0</text>\n",
       "</g>\n",
       "<!-- 12&#45;&gt;22 -->\n",
       "<g class=\"edge\" id=\"edge58\"><title>12-&gt;22</title>\n",
       "<path d=\"M2536.81,-296.884C2550.42,-285.116 2565.72,-271.894 2579.25,-260.203\" fill=\"none\" stroke=\"black\"/>\n",
       "<polygon fill=\"black\" points=\"2581.7,-262.707 2586.98,-253.52 2577.12,-257.412 2581.7,-262.707\" stroke=\"black\"/>\n",
       "</g>\n",
       "</g>\n",
       "</svg>"
      ],
      "text/plain": [
       "<IPython.core.display.SVG object>"
      ]
     },
     "execution_count": 259,
     "metadata": {},
     "output_type": "execute_result"
    }
   ],
   "source": [
    "from graphviz import Source\n",
    "from IPython.display import SVG\n",
    "graph = Source(export_graphviz(model, out_file=None, feature_names=dataset.columns))\n",
    "SVG(graph.pipe(format='svg'))"
   ]
  },
  {
   "cell_type": "code",
   "execution_count": 263,
   "metadata": {},
   "outputs": [
    {
     "name": "stdout",
     "output_type": "stream",
     "text": [
      "season  :  0.08156021485088764\n",
      "year  :  0.3247865920228436\n",
      "month  :  0.028298375353792666\n",
      "holiday  :  0.003177543523100121\n",
      "weekday  :  0.006752422254049405\n",
      "workingday  :  0.0024749198441322067\n",
      "weather  :  0.015660544359701198\n",
      "temp  :  0.4607544798231687\n",
      "humidity  :  0.05885122120775639\n",
      "windspeed  :  0.017683686760568123\n",
      " The more the value of a feature, more important it is.\n",
      " The number of importance feature is  10\n"
     ]
    }
   ],
   "source": [
    "x= model.feature_importances_\n",
    "def  imp(clf,feature_names):\n",
    "    featureImp = clf.feature_importances_\n",
    "    num = 0\n",
    "    for i in range(len(featureImp)):\n",
    "        print (feature_names[i], \" : \" ,featureImp[i])\n",
    "        if (featureImp[i] > 0):\n",
    "            num = num + 1\n",
    "    print (\" The more the value of a feature, more important it is.\")\n",
    "    print (\" The number of importance feature is \",num)\n",
    "imp(model,dataset.columns)"
   ]
  },
  {
   "cell_type": "markdown",
   "metadata": {},
   "source": [
    "## Part (ii)\n",
    "\n",
    "First changing the month variable values"
   ]
  },
  {
   "cell_type": "code",
   "execution_count": 264,
   "metadata": {},
   "outputs": [],
   "source": [
    "for i in range(len(dataset['month'])):\n",
    "    if dataset['month'][i]==1 or dataset['month'][i]==2:\n",
    "        dataset['month'][i] = 1\n",
    "    elif dataset['month'][i]==3 or dataset['month'][i]==4 or dataset['month'][i]==11 or dataset['month'][i]==12:\n",
    "        dataset['month'][i]=3\n",
    "    else:\n",
    "        dataset['month'][i]=2"
   ]
  },
  {
   "cell_type": "code",
   "execution_count": 222,
   "metadata": {},
   "outputs": [
    {
     "name": "stdout",
     "output_type": "stream",
     "text": [
      "[-1.015421068605069, -0.8500816185002751, -0.8488862289000008, -0.6257218733951209, -0.6265822464850199, -0.60335402562006, -0.6567201950050563]\n"
     ]
    }
   ],
   "source": [
    "depth = []\n",
    "maxnodes = list(range(10,101,10))\n",
    "for i in range(3,10):\n",
    "    clf = DecisionTreeRegressor(max_depth=i)\n",
    "    # Perform 7-fold cross validation \n",
    "    scores = cross_val_score(estimator=clf, X=dataset, y=Y, cv=10, n_jobs=4)\n",
    "    depth.append(scores.mean())\n",
    "\n",
    "# print(depth)\n",
    "print(depth)"
   ]
  },
  {
   "cell_type": "code",
   "execution_count": 223,
   "metadata": {},
   "outputs": [
    {
     "name": "stdout",
     "output_type": "stream",
     "text": [
      "Hence, maxdepth is either 3 or 5\n"
     ]
    },
    {
     "data": {
      "image/png": "[encoded data removed]",
      "text/plain": [
       "<Figure size 432x288 with 1 Axes>"
      ]
     },
     "metadata": {},
     "output_type": "display_data"
    }
   ],
   "source": [
    "maxdepth = list(range(3,10))\n",
    "\n",
    "plt.plot(maxdepth,depth)\n",
    "plt.xlabel('Hyperparameter Maxdepth')\n",
    "plt.ylabel('Mean Sqaure Error of 10cv(MSE)')\n",
    "plt.title('Calculating Maxdepth hyperparameter with Least MSE ')\n",
    "print('Hence, maxdepth is either 3 or 5')"
   ]
  },
  {
   "cell_type": "code",
   "execution_count": 224,
   "metadata": {},
   "outputs": [],
   "source": [
    "depth = []\n",
    "maxnodes = list(range(10,101,10))\n",
    "for i in maxnodes:\n",
    "    clf = DecisionTreeRegressor(max_depth=5,max_leaf_nodes=i)\n",
    "    # Perform 7-fold cross validation \n",
    "    scores = cross_val_score(estimator=clf, X=dataset, y=Y, cv=10, n_jobs=4)\n",
    "    depth.append(scores.mean())"
   ]
  },
  {
   "cell_type": "code",
   "execution_count": 225,
   "metadata": {},
   "outputs": [
    {
     "name": "stdout",
     "output_type": "stream",
     "text": [
      "Hence minimum value of MSE for Max Leaf nodes is obtained at 30\n"
     ]
    },
    {
     "data": {
      "image/png": "[encoded data removed]",
      "text/plain": [
       "<Figure size 432x288 with 1 Axes>"
      ]
     },
     "metadata": {},
     "output_type": "display_data"
    }
   ],
   "source": [
    "plt.plot(maxnodes,depth)\n",
    "plt.xlabel('Hyperparameter Max Leaf nodes')\n",
    "plt.ylabel('Mean Sqaure Error of 10cv(MSE)')\n",
    "plt.title('Calculating Maxdepth hyperparameter with Least MSE for Max Depth 5 ')\n",
    "print('Hence minimum value of MSE for Max Leaf nodes is obtained at 30')"
   ]
  },
  {
   "cell_type": "code",
   "execution_count": 226,
   "metadata": {},
   "outputs": [],
   "source": [
    "depth = []\n",
    "maxnodes = list(range(10,101,10))\n",
    "for i in maxnodes:\n",
    "    clf = DecisionTreeRegressor(max_depth=3,max_leaf_nodes=i)\n",
    "    # Perform 7-fold cross validation \n",
    "    scores = cross_val_score(estimator=clf, X=dataset, y=Y, cv=10, n_jobs=4)\n",
    "    depth.append(scores.mean())"
   ]
  },
  {
   "cell_type": "code",
   "execution_count": 227,
   "metadata": {},
   "outputs": [
    {
     "data": {
      "text/plain": [
       "Text(0.5,1,'Calculating Maxdepth hyperparameter with Least MSE for Max Depth 3 ')"
      ]
     },
     "execution_count": 227,
     "metadata": {},
     "output_type": "execute_result"
    },
    {
     "data": {
      "image/png": "[encoded data removed]",
      "text/plain": [
       "<Figure size 432x288 with 1 Axes>"
      ]
     },
     "metadata": {},
     "output_type": "display_data"
    }
   ],
   "source": [
    "plt.plot(maxnodes,depth)\n",
    "plt.xlabel('Hyperparameter Max Leaf nodes')\n",
    "plt.ylabel('Mean Sqaure Error of 10cv(MSE)')\n",
    "plt.title('Calculating Maxdepth hyperparameter with Least MSE for Max Depth 3 ')"
   ]
  },
  {
   "cell_type": "code",
   "execution_count": 230,
   "metadata": {},
   "outputs": [
    {
     "data": {
      "text/plain": [
       "DecisionTreeRegressor(criterion='mse', max_depth=5, max_features=None,\n",
       "           max_leaf_nodes=20, min_impurity_decrease=0.0,\n",
       "           min_impurity_split=None, min_samples_leaf=1,\n",
       "           min_samples_split=2, min_weight_fraction_leaf=0.0,\n",
       "           presort=False, random_state=None, splitter='best')"
      ]
     },
     "execution_count": 230,
     "metadata": {},
     "output_type": "execute_result"
    }
   ],
   "source": [
    "model = DecisionTreeRegressor(max_depth=5,max_leaf_nodes=20)\n",
    "# Perform 7-fold cross validation \n",
    "model.fit(dataset,Y)\n"
   ]
  },
  {
   "cell_type": "code",
   "execution_count": 233,
   "metadata": {},
   "outputs": [],
   "source": [
    "predicted = model.predict(dataset)\n",
    "MSE5 = MSE(predicted,Y)\n"
   ]
  },
  {
   "cell_type": "code",
   "execution_count": 234,
   "metadata": {},
   "outputs": [
    {
     "data": {
      "text/plain": [
       "DecisionTreeRegressor(criterion='mse', max_depth=3, max_features=None,\n",
       "           max_leaf_nodes=20, min_impurity_decrease=0.0,\n",
       "           min_impurity_split=None, min_samples_leaf=1,\n",
       "           min_samples_split=2, min_weight_fraction_leaf=0.0,\n",
       "           presort=False, random_state=None, splitter='best')"
      ]
     },
     "execution_count": 234,
     "metadata": {},
     "output_type": "execute_result"
    }
   ],
   "source": [
    "model = DecisionTreeRegressor(max_depth=3,max_leaf_nodes=20)\n",
    "model.fit(dataset,Y)\n"
   ]
  },
  {
   "cell_type": "code",
   "execution_count": 235,
   "metadata": {},
   "outputs": [
    {
     "name": "stdout",
     "output_type": "stream",
     "text": [
      "MSE value for maxdepth 3 and max_leaf_node 20 is592522.9598770015\n",
      "MSE value for maxdepth 5 and max_leaf_node 20 is492228.9113020545\n"
     ]
    }
   ],
   "source": [
    "predicted=model.predict(dataset)\n",
    "MSE3 = MSE(predicted,Y)\n",
    "\n",
    "print('MSE value for maxdepth 3 and max_leaf_node 20 is '+str(MSE3))\n",
    "print('MSE value for maxdepth 5 and max_leaf_node 20 is '+str(MSE5))"
   ]
  },
  {
   "cell_type": "code",
   "execution_count": 237,
   "metadata": {},
   "outputs": [
    {
     "name": "stdout",
     "output_type": "stream",
     "text": [
      "Hence maxdepth is 5 and max_leaf_node is 20\n",
      "MSE is 492228.9113020545\n"
     ]
    }
   ],
   "source": [
    "print('Hence maxdepth is 5 and max_leaf_node is 20')\n",
    "print('MSE is '+str(MSE5))"
   ]
  },
  {
   "cell_type": "code",
   "execution_count": 238,
   "metadata": {},
   "outputs": [
    {
     "name": "stdout",
     "output_type": "stream",
     "text": [
      "Previous MSE was 376820.1402192555 and now 492228.9113020545\n",
      "difference = -115408.77108279895\n"
     ]
    }
   ],
   "source": [
    "print('Previous MSE was 376820.1402192555 and now '+str(MSE5))\n",
    "print('difference = '+str(376820.1402192555 - MSE5))"
   ]
  },
  {
   "cell_type": "code",
   "execution_count": 239,
   "metadata": {},
   "outputs": [
    {
     "name": "stdout",
     "output_type": "stream",
     "text": [
      "MSE value was lesser before, it didnt improve\n"
     ]
    }
   ],
   "source": [
    "print('MSE value was lesser before, it didn''t improve')"
   ]
  },
  {
   "cell_type": "markdown",
   "metadata": {},
   "source": [
    "### Conclusion \n",
    "\n",
    "Hyperparameters can be easily calculated by plotting over Cross-validation score to get the best values of it.The two main hyperparameters are max leaf nodes restriction and max depth restriction.\n",
    "\n",
    "The MSE was more after changing months variable to 1,2,3 then before."
   ]
  }
 ],
 "metadata": {
  "kernelspec": {
   "display_name": "Python 3",
   "language": "python",
   "name": "python3"
  },
  "language_info": {
   "codemirror_mode": {
    "name": "ipython",
    "version": 3
   },
   "file_extension": ".py",
   "mimetype": "text/x-python",
   "name": "python",
   "nbconvert_exporter": "python",
   "pygments_lexer": "ipython3",
   "version": "3.5.2"
  }
 },
 "nbformat": 4,
 "nbformat_minor": 2
}
